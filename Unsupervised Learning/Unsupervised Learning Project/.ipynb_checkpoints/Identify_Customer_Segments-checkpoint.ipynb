{
 "cells": [
  {
   "cell_type": "markdown",
   "metadata": {},
   "source": [
    "# Project: Identify Customer Segments\n",
    "\n",
    "In this project, you will apply unsupervised learning techniques to identify segments of the population that form the core customer base for a mail-order sales company in Germany. These segments can then be used to direct marketing campaigns towards audiences that will have the highest expected rate of returns. The data that you will use has been provided by our partners at Bertelsmann Arvato Analytics, and represents a real-life data science task.\n",
    "\n",
    "This notebook will help you complete this task by providing a framework within which you will perform your analysis steps. In each step of the project, you will see some text describing the subtask that you will perform, followed by one or more code cells for you to complete your work. **Feel free to add additional code and markdown cells as you go along so that you can explore everything in precise chunks.** The code cells provided in the base template will outline only the major tasks, and will usually not be enough to cover all of the minor tasks that comprise it.\n",
    "\n",
    "It should be noted that while there will be precise guidelines on how you should handle certain tasks in the project, there will also be places where an exact specification is not provided. **There will be times in the project where you will need to make and justify your own decisions on how to treat the data.** These are places where there may not be only one way to handle the data. In real-life tasks, there may be many valid ways to approach an analysis task. One of the most important things you can do is clearly document your approach so that other scientists can understand the decisions you've made.\n",
    "\n",
    "At the end of most sections, there will be a Markdown cell labeled **Discussion**. In these cells, you will report your findings for the completed section, as well as document the decisions that you made in your approach to each subtask. **Your project will be evaluated not just on the code used to complete the tasks outlined, but also your communication about your observations and conclusions at each stage.**"
   ]
  },
  {
   "cell_type": "code",
   "execution_count": 1,
   "metadata": {},
   "outputs": [],
   "source": [
    "# import libraries here; add more as necessary\n",
    "import numpy as np\n",
    "import pandas as pd\n",
    "import matplotlib.pyplot as plt\n",
    "import seaborn as sns\n",
    "\n",
    "# magic word for producing visualizations in notebook\n",
    "%matplotlib inline"
   ]
  },
  {
   "cell_type": "markdown",
   "metadata": {},
   "source": [
    "### Step 0: Load the Data\n",
    "\n",
    "There are four files associated with this project (not including this one):\n",
    "\n",
    "- `Udacity_AZDIAS_Subset.csv`: Demographics data for the general population of Germany; 891211 persons (rows) x 85 features (columns).\n",
    "- `Udacity_CUSTOMERS_Subset.csv`: Demographics data for customers of a mail-order company; 191652 persons (rows) x 85 features (columns).\n",
    "- `Data_Dictionary.md`: Detailed information file about the features in the provided datasets.\n",
    "- `AZDIAS_Feature_Summary.csv`: Summary of feature attributes for demographics data; 85 features (rows) x 4 columns\n",
    "\n",
    "Each row of the demographics files represents a single person, but also includes information outside of individuals, including information about their household, building, and neighborhood. You will use this information to cluster the general population into groups with similar demographic properties. Then, you will see how the people in the customers dataset fit into those created clusters. The hope here is that certain clusters are over-represented in the customers data, as compared to the general population; those over-represented clusters will be assumed to be part of the core userbase. This information can then be used for further applications, such as targeting for a marketing campaign.\n",
    "\n",
    "To start off with, load in the demographics data for the general population into a pandas DataFrame, and do the same for the feature attributes summary. Note for all of the `.csv` data files in this project: they're semicolon (`;`) delimited, so you'll need an additional argument in your [`read_csv()`](https://pandas.pydata.org/pandas-docs/stable/generated/pandas.read_csv.html) call to read in the data properly. Also, considering the size of the main dataset, it may take some time for it to load completely.\n",
    "\n",
    "Once the dataset is loaded, it's recommended that you take a little bit of time just browsing the general structure of the dataset and feature summary file. You'll be getting deep into the innards of the cleaning in the first major step of the project, so gaining some general familiarity can help you get your bearings."
   ]
  },
  {
   "cell_type": "code",
   "execution_count": 2,
   "metadata": {},
   "outputs": [],
   "source": [
    "# Load in the general demographics data.\n",
    "azdias = pd.read_csv('Udacity_AZDIAS_Subset.csv', sep = ';')\n",
    "\n",
    "# Load in the feature summary file.\n",
    "feat_info = pd.read_csv('AZDIAS_Feature_Summary.csv', sep = ';')"
   ]
  },
  {
   "cell_type": "code",
   "execution_count": 3,
   "metadata": {},
   "outputs": [
    {
     "data": {
      "text/html": [
       "<div>\n",
       "<style scoped>\n",
       "    .dataframe tbody tr th:only-of-type {\n",
       "        vertical-align: middle;\n",
       "    }\n",
       "\n",
       "    .dataframe tbody tr th {\n",
       "        vertical-align: top;\n",
       "    }\n",
       "\n",
       "    .dataframe thead th {\n",
       "        text-align: right;\n",
       "    }\n",
       "</style>\n",
       "<table border=\"1\" class=\"dataframe\">\n",
       "  <thead>\n",
       "    <tr style=\"text-align: right;\">\n",
       "      <th></th>\n",
       "      <th>AGER_TYP</th>\n",
       "      <th>ALTERSKATEGORIE_GROB</th>\n",
       "      <th>ANREDE_KZ</th>\n",
       "      <th>CJT_GESAMTTYP</th>\n",
       "      <th>FINANZ_MINIMALIST</th>\n",
       "      <th>FINANZ_SPARER</th>\n",
       "      <th>FINANZ_VORSORGER</th>\n",
       "      <th>FINANZ_ANLEGER</th>\n",
       "      <th>FINANZ_UNAUFFAELLIGER</th>\n",
       "      <th>FINANZ_HAUSBAUER</th>\n",
       "      <th>...</th>\n",
       "      <th>PLZ8_ANTG1</th>\n",
       "      <th>PLZ8_ANTG2</th>\n",
       "      <th>PLZ8_ANTG3</th>\n",
       "      <th>PLZ8_ANTG4</th>\n",
       "      <th>PLZ8_BAUMAX</th>\n",
       "      <th>PLZ8_HHZ</th>\n",
       "      <th>PLZ8_GBZ</th>\n",
       "      <th>ARBEIT</th>\n",
       "      <th>ORTSGR_KLS9</th>\n",
       "      <th>RELAT_AB</th>\n",
       "    </tr>\n",
       "  </thead>\n",
       "  <tbody>\n",
       "    <tr>\n",
       "      <th>count</th>\n",
       "      <td>891221.000000</td>\n",
       "      <td>891221.000000</td>\n",
       "      <td>891221.000000</td>\n",
       "      <td>886367.000000</td>\n",
       "      <td>891221.000000</td>\n",
       "      <td>891221.000000</td>\n",
       "      <td>891221.000000</td>\n",
       "      <td>891221.000000</td>\n",
       "      <td>891221.000000</td>\n",
       "      <td>891221.000000</td>\n",
       "      <td>...</td>\n",
       "      <td>774706.000000</td>\n",
       "      <td>774706.000000</td>\n",
       "      <td>774706.000000</td>\n",
       "      <td>774706.000000</td>\n",
       "      <td>774706.000000</td>\n",
       "      <td>774706.000000</td>\n",
       "      <td>774706.000000</td>\n",
       "      <td>794005.000000</td>\n",
       "      <td>794005.000000</td>\n",
       "      <td>794005.00000</td>\n",
       "    </tr>\n",
       "    <tr>\n",
       "      <th>mean</th>\n",
       "      <td>-0.358435</td>\n",
       "      <td>2.777398</td>\n",
       "      <td>1.522098</td>\n",
       "      <td>3.632838</td>\n",
       "      <td>3.074528</td>\n",
       "      <td>2.821039</td>\n",
       "      <td>3.401106</td>\n",
       "      <td>3.033328</td>\n",
       "      <td>2.874167</td>\n",
       "      <td>3.075121</td>\n",
       "      <td>...</td>\n",
       "      <td>2.253330</td>\n",
       "      <td>2.801858</td>\n",
       "      <td>1.595426</td>\n",
       "      <td>0.699166</td>\n",
       "      <td>1.943913</td>\n",
       "      <td>3.612821</td>\n",
       "      <td>3.381087</td>\n",
       "      <td>3.167854</td>\n",
       "      <td>5.293002</td>\n",
       "      <td>3.07222</td>\n",
       "    </tr>\n",
       "    <tr>\n",
       "      <th>std</th>\n",
       "      <td>1.198724</td>\n",
       "      <td>1.068775</td>\n",
       "      <td>0.499512</td>\n",
       "      <td>1.595021</td>\n",
       "      <td>1.321055</td>\n",
       "      <td>1.464749</td>\n",
       "      <td>1.322134</td>\n",
       "      <td>1.529603</td>\n",
       "      <td>1.486731</td>\n",
       "      <td>1.353248</td>\n",
       "      <td>...</td>\n",
       "      <td>0.972008</td>\n",
       "      <td>0.920309</td>\n",
       "      <td>0.986736</td>\n",
       "      <td>0.727137</td>\n",
       "      <td>1.459654</td>\n",
       "      <td>0.973967</td>\n",
       "      <td>1.111598</td>\n",
       "      <td>1.002376</td>\n",
       "      <td>2.303739</td>\n",
       "      <td>1.36298</td>\n",
       "    </tr>\n",
       "    <tr>\n",
       "      <th>min</th>\n",
       "      <td>-1.000000</td>\n",
       "      <td>1.000000</td>\n",
       "      <td>1.000000</td>\n",
       "      <td>1.000000</td>\n",
       "      <td>1.000000</td>\n",
       "      <td>1.000000</td>\n",
       "      <td>1.000000</td>\n",
       "      <td>1.000000</td>\n",
       "      <td>1.000000</td>\n",
       "      <td>1.000000</td>\n",
       "      <td>...</td>\n",
       "      <td>0.000000</td>\n",
       "      <td>0.000000</td>\n",
       "      <td>0.000000</td>\n",
       "      <td>0.000000</td>\n",
       "      <td>1.000000</td>\n",
       "      <td>1.000000</td>\n",
       "      <td>1.000000</td>\n",
       "      <td>1.000000</td>\n",
       "      <td>0.000000</td>\n",
       "      <td>1.00000</td>\n",
       "    </tr>\n",
       "    <tr>\n",
       "      <th>25%</th>\n",
       "      <td>-1.000000</td>\n",
       "      <td>2.000000</td>\n",
       "      <td>1.000000</td>\n",
       "      <td>2.000000</td>\n",
       "      <td>2.000000</td>\n",
       "      <td>1.000000</td>\n",
       "      <td>3.000000</td>\n",
       "      <td>2.000000</td>\n",
       "      <td>2.000000</td>\n",
       "      <td>2.000000</td>\n",
       "      <td>...</td>\n",
       "      <td>1.000000</td>\n",
       "      <td>2.000000</td>\n",
       "      <td>1.000000</td>\n",
       "      <td>0.000000</td>\n",
       "      <td>1.000000</td>\n",
       "      <td>3.000000</td>\n",
       "      <td>3.000000</td>\n",
       "      <td>3.000000</td>\n",
       "      <td>4.000000</td>\n",
       "      <td>2.00000</td>\n",
       "    </tr>\n",
       "    <tr>\n",
       "      <th>50%</th>\n",
       "      <td>-1.000000</td>\n",
       "      <td>3.000000</td>\n",
       "      <td>2.000000</td>\n",
       "      <td>4.000000</td>\n",
       "      <td>3.000000</td>\n",
       "      <td>3.000000</td>\n",
       "      <td>3.000000</td>\n",
       "      <td>3.000000</td>\n",
       "      <td>3.000000</td>\n",
       "      <td>3.000000</td>\n",
       "      <td>...</td>\n",
       "      <td>2.000000</td>\n",
       "      <td>3.000000</td>\n",
       "      <td>2.000000</td>\n",
       "      <td>1.000000</td>\n",
       "      <td>1.000000</td>\n",
       "      <td>4.000000</td>\n",
       "      <td>3.000000</td>\n",
       "      <td>3.000000</td>\n",
       "      <td>5.000000</td>\n",
       "      <td>3.00000</td>\n",
       "    </tr>\n",
       "    <tr>\n",
       "      <th>75%</th>\n",
       "      <td>-1.000000</td>\n",
       "      <td>4.000000</td>\n",
       "      <td>2.000000</td>\n",
       "      <td>5.000000</td>\n",
       "      <td>4.000000</td>\n",
       "      <td>4.000000</td>\n",
       "      <td>5.000000</td>\n",
       "      <td>5.000000</td>\n",
       "      <td>4.000000</td>\n",
       "      <td>4.000000</td>\n",
       "      <td>...</td>\n",
       "      <td>3.000000</td>\n",
       "      <td>3.000000</td>\n",
       "      <td>2.000000</td>\n",
       "      <td>1.000000</td>\n",
       "      <td>3.000000</td>\n",
       "      <td>4.000000</td>\n",
       "      <td>4.000000</td>\n",
       "      <td>4.000000</td>\n",
       "      <td>7.000000</td>\n",
       "      <td>4.00000</td>\n",
       "    </tr>\n",
       "    <tr>\n",
       "      <th>max</th>\n",
       "      <td>3.000000</td>\n",
       "      <td>9.000000</td>\n",
       "      <td>2.000000</td>\n",
       "      <td>6.000000</td>\n",
       "      <td>5.000000</td>\n",
       "      <td>5.000000</td>\n",
       "      <td>5.000000</td>\n",
       "      <td>5.000000</td>\n",
       "      <td>5.000000</td>\n",
       "      <td>5.000000</td>\n",
       "      <td>...</td>\n",
       "      <td>4.000000</td>\n",
       "      <td>4.000000</td>\n",
       "      <td>3.000000</td>\n",
       "      <td>2.000000</td>\n",
       "      <td>5.000000</td>\n",
       "      <td>5.000000</td>\n",
       "      <td>5.000000</td>\n",
       "      <td>9.000000</td>\n",
       "      <td>9.000000</td>\n",
       "      <td>9.00000</td>\n",
       "    </tr>\n",
       "  </tbody>\n",
       "</table>\n",
       "<p>8 rows × 81 columns</p>\n",
       "</div>"
      ],
      "text/plain": [
       "            AGER_TYP  ALTERSKATEGORIE_GROB      ANREDE_KZ  CJT_GESAMTTYP  \\\n",
       "count  891221.000000         891221.000000  891221.000000  886367.000000   \n",
       "mean       -0.358435              2.777398       1.522098       3.632838   \n",
       "std         1.198724              1.068775       0.499512       1.595021   \n",
       "min        -1.000000              1.000000       1.000000       1.000000   \n",
       "25%        -1.000000              2.000000       1.000000       2.000000   \n",
       "50%        -1.000000              3.000000       2.000000       4.000000   \n",
       "75%        -1.000000              4.000000       2.000000       5.000000   \n",
       "max         3.000000              9.000000       2.000000       6.000000   \n",
       "\n",
       "       FINANZ_MINIMALIST  FINANZ_SPARER  FINANZ_VORSORGER  FINANZ_ANLEGER  \\\n",
       "count      891221.000000  891221.000000     891221.000000   891221.000000   \n",
       "mean            3.074528       2.821039          3.401106        3.033328   \n",
       "std             1.321055       1.464749          1.322134        1.529603   \n",
       "min             1.000000       1.000000          1.000000        1.000000   \n",
       "25%             2.000000       1.000000          3.000000        2.000000   \n",
       "50%             3.000000       3.000000          3.000000        3.000000   \n",
       "75%             4.000000       4.000000          5.000000        5.000000   \n",
       "max             5.000000       5.000000          5.000000        5.000000   \n",
       "\n",
       "       FINANZ_UNAUFFAELLIGER  FINANZ_HAUSBAUER      ...          PLZ8_ANTG1  \\\n",
       "count          891221.000000     891221.000000      ...       774706.000000   \n",
       "mean                2.874167          3.075121      ...            2.253330   \n",
       "std                 1.486731          1.353248      ...            0.972008   \n",
       "min                 1.000000          1.000000      ...            0.000000   \n",
       "25%                 2.000000          2.000000      ...            1.000000   \n",
       "50%                 3.000000          3.000000      ...            2.000000   \n",
       "75%                 4.000000          4.000000      ...            3.000000   \n",
       "max                 5.000000          5.000000      ...            4.000000   \n",
       "\n",
       "          PLZ8_ANTG2     PLZ8_ANTG3     PLZ8_ANTG4    PLZ8_BAUMAX  \\\n",
       "count  774706.000000  774706.000000  774706.000000  774706.000000   \n",
       "mean        2.801858       1.595426       0.699166       1.943913   \n",
       "std         0.920309       0.986736       0.727137       1.459654   \n",
       "min         0.000000       0.000000       0.000000       1.000000   \n",
       "25%         2.000000       1.000000       0.000000       1.000000   \n",
       "50%         3.000000       2.000000       1.000000       1.000000   \n",
       "75%         3.000000       2.000000       1.000000       3.000000   \n",
       "max         4.000000       3.000000       2.000000       5.000000   \n",
       "\n",
       "            PLZ8_HHZ       PLZ8_GBZ         ARBEIT    ORTSGR_KLS9  \\\n",
       "count  774706.000000  774706.000000  794005.000000  794005.000000   \n",
       "mean        3.612821       3.381087       3.167854       5.293002   \n",
       "std         0.973967       1.111598       1.002376       2.303739   \n",
       "min         1.000000       1.000000       1.000000       0.000000   \n",
       "25%         3.000000       3.000000       3.000000       4.000000   \n",
       "50%         4.000000       3.000000       3.000000       5.000000   \n",
       "75%         4.000000       4.000000       4.000000       7.000000   \n",
       "max         5.000000       5.000000       9.000000       9.000000   \n",
       "\n",
       "           RELAT_AB  \n",
       "count  794005.00000  \n",
       "mean        3.07222  \n",
       "std         1.36298  \n",
       "min         1.00000  \n",
       "25%         2.00000  \n",
       "50%         3.00000  \n",
       "75%         4.00000  \n",
       "max         9.00000  \n",
       "\n",
       "[8 rows x 81 columns]"
      ]
     },
     "execution_count": 3,
     "metadata": {},
     "output_type": "execute_result"
    }
   ],
   "source": [
    "# Check the structure of the data after it's loaded (e.g. print the number of\n",
    "# rows and columns, print the first few rows).\n",
    "azdias.describe()"
   ]
  },
  {
   "cell_type": "code",
   "execution_count": 4,
   "metadata": {},
   "outputs": [
    {
     "data": {
      "text/html": [
       "<div>\n",
       "<style scoped>\n",
       "    .dataframe tbody tr th:only-of-type {\n",
       "        vertical-align: middle;\n",
       "    }\n",
       "\n",
       "    .dataframe tbody tr th {\n",
       "        vertical-align: top;\n",
       "    }\n",
       "\n",
       "    .dataframe thead th {\n",
       "        text-align: right;\n",
       "    }\n",
       "</style>\n",
       "<table border=\"1\" class=\"dataframe\">\n",
       "  <thead>\n",
       "    <tr style=\"text-align: right;\">\n",
       "      <th></th>\n",
       "      <th>AGER_TYP</th>\n",
       "      <th>ALTERSKATEGORIE_GROB</th>\n",
       "      <th>ANREDE_KZ</th>\n",
       "      <th>CJT_GESAMTTYP</th>\n",
       "      <th>FINANZ_MINIMALIST</th>\n",
       "      <th>FINANZ_SPARER</th>\n",
       "      <th>FINANZ_VORSORGER</th>\n",
       "      <th>FINANZ_ANLEGER</th>\n",
       "      <th>FINANZ_UNAUFFAELLIGER</th>\n",
       "      <th>FINANZ_HAUSBAUER</th>\n",
       "      <th>...</th>\n",
       "      <th>PLZ8_ANTG1</th>\n",
       "      <th>PLZ8_ANTG2</th>\n",
       "      <th>PLZ8_ANTG3</th>\n",
       "      <th>PLZ8_ANTG4</th>\n",
       "      <th>PLZ8_BAUMAX</th>\n",
       "      <th>PLZ8_HHZ</th>\n",
       "      <th>PLZ8_GBZ</th>\n",
       "      <th>ARBEIT</th>\n",
       "      <th>ORTSGR_KLS9</th>\n",
       "      <th>RELAT_AB</th>\n",
       "    </tr>\n",
       "  </thead>\n",
       "  <tbody>\n",
       "    <tr>\n",
       "      <th>0</th>\n",
       "      <td>-1</td>\n",
       "      <td>2</td>\n",
       "      <td>1</td>\n",
       "      <td>2.0</td>\n",
       "      <td>3</td>\n",
       "      <td>4</td>\n",
       "      <td>3</td>\n",
       "      <td>5</td>\n",
       "      <td>5</td>\n",
       "      <td>3</td>\n",
       "      <td>...</td>\n",
       "      <td>NaN</td>\n",
       "      <td>NaN</td>\n",
       "      <td>NaN</td>\n",
       "      <td>NaN</td>\n",
       "      <td>NaN</td>\n",
       "      <td>NaN</td>\n",
       "      <td>NaN</td>\n",
       "      <td>NaN</td>\n",
       "      <td>NaN</td>\n",
       "      <td>NaN</td>\n",
       "    </tr>\n",
       "    <tr>\n",
       "      <th>1</th>\n",
       "      <td>-1</td>\n",
       "      <td>1</td>\n",
       "      <td>2</td>\n",
       "      <td>5.0</td>\n",
       "      <td>1</td>\n",
       "      <td>5</td>\n",
       "      <td>2</td>\n",
       "      <td>5</td>\n",
       "      <td>4</td>\n",
       "      <td>5</td>\n",
       "      <td>...</td>\n",
       "      <td>2.0</td>\n",
       "      <td>3.0</td>\n",
       "      <td>2.0</td>\n",
       "      <td>1.0</td>\n",
       "      <td>1.0</td>\n",
       "      <td>5.0</td>\n",
       "      <td>4.0</td>\n",
       "      <td>3.0</td>\n",
       "      <td>5.0</td>\n",
       "      <td>4.0</td>\n",
       "    </tr>\n",
       "    <tr>\n",
       "      <th>2</th>\n",
       "      <td>-1</td>\n",
       "      <td>3</td>\n",
       "      <td>2</td>\n",
       "      <td>3.0</td>\n",
       "      <td>1</td>\n",
       "      <td>4</td>\n",
       "      <td>1</td>\n",
       "      <td>2</td>\n",
       "      <td>3</td>\n",
       "      <td>5</td>\n",
       "      <td>...</td>\n",
       "      <td>3.0</td>\n",
       "      <td>3.0</td>\n",
       "      <td>1.0</td>\n",
       "      <td>0.0</td>\n",
       "      <td>1.0</td>\n",
       "      <td>4.0</td>\n",
       "      <td>4.0</td>\n",
       "      <td>3.0</td>\n",
       "      <td>5.0</td>\n",
       "      <td>2.0</td>\n",
       "    </tr>\n",
       "    <tr>\n",
       "      <th>3</th>\n",
       "      <td>2</td>\n",
       "      <td>4</td>\n",
       "      <td>2</td>\n",
       "      <td>2.0</td>\n",
       "      <td>4</td>\n",
       "      <td>2</td>\n",
       "      <td>5</td>\n",
       "      <td>2</td>\n",
       "      <td>1</td>\n",
       "      <td>2</td>\n",
       "      <td>...</td>\n",
       "      <td>2.0</td>\n",
       "      <td>2.0</td>\n",
       "      <td>2.0</td>\n",
       "      <td>0.0</td>\n",
       "      <td>1.0</td>\n",
       "      <td>3.0</td>\n",
       "      <td>4.0</td>\n",
       "      <td>2.0</td>\n",
       "      <td>3.0</td>\n",
       "      <td>3.0</td>\n",
       "    </tr>\n",
       "    <tr>\n",
       "      <th>4</th>\n",
       "      <td>-1</td>\n",
       "      <td>3</td>\n",
       "      <td>1</td>\n",
       "      <td>5.0</td>\n",
       "      <td>4</td>\n",
       "      <td>3</td>\n",
       "      <td>4</td>\n",
       "      <td>1</td>\n",
       "      <td>3</td>\n",
       "      <td>2</td>\n",
       "      <td>...</td>\n",
       "      <td>2.0</td>\n",
       "      <td>4.0</td>\n",
       "      <td>2.0</td>\n",
       "      <td>1.0</td>\n",
       "      <td>2.0</td>\n",
       "      <td>3.0</td>\n",
       "      <td>3.0</td>\n",
       "      <td>4.0</td>\n",
       "      <td>6.0</td>\n",
       "      <td>5.0</td>\n",
       "    </tr>\n",
       "  </tbody>\n",
       "</table>\n",
       "<p>5 rows × 85 columns</p>\n",
       "</div>"
      ],
      "text/plain": [
       "   AGER_TYP  ALTERSKATEGORIE_GROB  ANREDE_KZ  CJT_GESAMTTYP  \\\n",
       "0        -1                     2          1            2.0   \n",
       "1        -1                     1          2            5.0   \n",
       "2        -1                     3          2            3.0   \n",
       "3         2                     4          2            2.0   \n",
       "4        -1                     3          1            5.0   \n",
       "\n",
       "   FINANZ_MINIMALIST  FINANZ_SPARER  FINANZ_VORSORGER  FINANZ_ANLEGER  \\\n",
       "0                  3              4                 3               5   \n",
       "1                  1              5                 2               5   \n",
       "2                  1              4                 1               2   \n",
       "3                  4              2                 5               2   \n",
       "4                  4              3                 4               1   \n",
       "\n",
       "   FINANZ_UNAUFFAELLIGER  FINANZ_HAUSBAUER    ...     PLZ8_ANTG1  PLZ8_ANTG2  \\\n",
       "0                      5                 3    ...            NaN         NaN   \n",
       "1                      4                 5    ...            2.0         3.0   \n",
       "2                      3                 5    ...            3.0         3.0   \n",
       "3                      1                 2    ...            2.0         2.0   \n",
       "4                      3                 2    ...            2.0         4.0   \n",
       "\n",
       "   PLZ8_ANTG3  PLZ8_ANTG4  PLZ8_BAUMAX  PLZ8_HHZ  PLZ8_GBZ  ARBEIT  \\\n",
       "0         NaN         NaN          NaN       NaN       NaN     NaN   \n",
       "1         2.0         1.0          1.0       5.0       4.0     3.0   \n",
       "2         1.0         0.0          1.0       4.0       4.0     3.0   \n",
       "3         2.0         0.0          1.0       3.0       4.0     2.0   \n",
       "4         2.0         1.0          2.0       3.0       3.0     4.0   \n",
       "\n",
       "   ORTSGR_KLS9  RELAT_AB  \n",
       "0          NaN       NaN  \n",
       "1          5.0       4.0  \n",
       "2          5.0       2.0  \n",
       "3          3.0       3.0  \n",
       "4          6.0       5.0  \n",
       "\n",
       "[5 rows x 85 columns]"
      ]
     },
     "execution_count": 4,
     "metadata": {},
     "output_type": "execute_result"
    }
   ],
   "source": [
    "azdias.head()"
   ]
  },
  {
   "cell_type": "code",
   "execution_count": 5,
   "metadata": {},
   "outputs": [
    {
     "data": {
      "text/html": [
       "<div>\n",
       "<style scoped>\n",
       "    .dataframe tbody tr th:only-of-type {\n",
       "        vertical-align: middle;\n",
       "    }\n",
       "\n",
       "    .dataframe tbody tr th {\n",
       "        vertical-align: top;\n",
       "    }\n",
       "\n",
       "    .dataframe thead th {\n",
       "        text-align: right;\n",
       "    }\n",
       "</style>\n",
       "<table border=\"1\" class=\"dataframe\">\n",
       "  <thead>\n",
       "    <tr style=\"text-align: right;\">\n",
       "      <th></th>\n",
       "      <th>attribute</th>\n",
       "      <th>information_level</th>\n",
       "      <th>type</th>\n",
       "      <th>missing_or_unknown</th>\n",
       "    </tr>\n",
       "  </thead>\n",
       "  <tbody>\n",
       "    <tr>\n",
       "      <th>count</th>\n",
       "      <td>85</td>\n",
       "      <td>85</td>\n",
       "      <td>85</td>\n",
       "      <td>85</td>\n",
       "    </tr>\n",
       "    <tr>\n",
       "      <th>unique</th>\n",
       "      <td>85</td>\n",
       "      <td>9</td>\n",
       "      <td>5</td>\n",
       "      <td>9</td>\n",
       "    </tr>\n",
       "    <tr>\n",
       "      <th>top</th>\n",
       "      <td>PLZ8_HHZ</td>\n",
       "      <td>person</td>\n",
       "      <td>ordinal</td>\n",
       "      <td>[-1]</td>\n",
       "    </tr>\n",
       "    <tr>\n",
       "      <th>freq</th>\n",
       "      <td>1</td>\n",
       "      <td>43</td>\n",
       "      <td>49</td>\n",
       "      <td>26</td>\n",
       "    </tr>\n",
       "  </tbody>\n",
       "</table>\n",
       "</div>"
      ],
      "text/plain": [
       "       attribute information_level     type missing_or_unknown\n",
       "count         85                85       85                 85\n",
       "unique        85                 9        5                  9\n",
       "top     PLZ8_HHZ            person  ordinal               [-1]\n",
       "freq           1                43       49                 26"
      ]
     },
     "execution_count": 5,
     "metadata": {},
     "output_type": "execute_result"
    }
   ],
   "source": [
    "feat_info.describe()"
   ]
  },
  {
   "cell_type": "code",
   "execution_count": 6,
   "metadata": {},
   "outputs": [
    {
     "data": {
      "text/html": [
       "<div>\n",
       "<style scoped>\n",
       "    .dataframe tbody tr th:only-of-type {\n",
       "        vertical-align: middle;\n",
       "    }\n",
       "\n",
       "    .dataframe tbody tr th {\n",
       "        vertical-align: top;\n",
       "    }\n",
       "\n",
       "    .dataframe thead th {\n",
       "        text-align: right;\n",
       "    }\n",
       "</style>\n",
       "<table border=\"1\" class=\"dataframe\">\n",
       "  <thead>\n",
       "    <tr style=\"text-align: right;\">\n",
       "      <th></th>\n",
       "      <th>attribute</th>\n",
       "      <th>information_level</th>\n",
       "      <th>type</th>\n",
       "      <th>missing_or_unknown</th>\n",
       "    </tr>\n",
       "  </thead>\n",
       "  <tbody>\n",
       "    <tr>\n",
       "      <th>0</th>\n",
       "      <td>AGER_TYP</td>\n",
       "      <td>person</td>\n",
       "      <td>categorical</td>\n",
       "      <td>[-1,0]</td>\n",
       "    </tr>\n",
       "    <tr>\n",
       "      <th>1</th>\n",
       "      <td>ALTERSKATEGORIE_GROB</td>\n",
       "      <td>person</td>\n",
       "      <td>ordinal</td>\n",
       "      <td>[-1,0,9]</td>\n",
       "    </tr>\n",
       "    <tr>\n",
       "      <th>2</th>\n",
       "      <td>ANREDE_KZ</td>\n",
       "      <td>person</td>\n",
       "      <td>categorical</td>\n",
       "      <td>[-1,0]</td>\n",
       "    </tr>\n",
       "    <tr>\n",
       "      <th>3</th>\n",
       "      <td>CJT_GESAMTTYP</td>\n",
       "      <td>person</td>\n",
       "      <td>categorical</td>\n",
       "      <td>[0]</td>\n",
       "    </tr>\n",
       "    <tr>\n",
       "      <th>4</th>\n",
       "      <td>FINANZ_MINIMALIST</td>\n",
       "      <td>person</td>\n",
       "      <td>ordinal</td>\n",
       "      <td>[-1]</td>\n",
       "    </tr>\n",
       "  </tbody>\n",
       "</table>\n",
       "</div>"
      ],
      "text/plain": [
       "              attribute information_level         type missing_or_unknown\n",
       "0              AGER_TYP            person  categorical             [-1,0]\n",
       "1  ALTERSKATEGORIE_GROB            person      ordinal           [-1,0,9]\n",
       "2             ANREDE_KZ            person  categorical             [-1,0]\n",
       "3         CJT_GESAMTTYP            person  categorical                [0]\n",
       "4     FINANZ_MINIMALIST            person      ordinal               [-1]"
      ]
     },
     "execution_count": 6,
     "metadata": {},
     "output_type": "execute_result"
    }
   ],
   "source": [
    "feat_info.head()"
   ]
  },
  {
   "cell_type": "markdown",
   "metadata": {},
   "source": [
    "> **Tip**: Add additional cells to keep everything in reasonably-sized chunks! Keyboard shortcut `esc --> a` (press escape to enter command mode, then press the 'A' key) adds a new cell before the active cell, and `esc --> b` adds a new cell after the active cell. If you need to convert an active cell to a markdown cell, use `esc --> m` and to convert to a code cell, use `esc --> y`. \n",
    "\n",
    "## Step 1: Preprocessing\n",
    "\n",
    "### Step 1.1: Assess Missing Data\n",
    "\n",
    "The feature summary file contains a summary of properties for each demographics data column. You will use this file to help you make cleaning decisions during this stage of the project. First of all, you should assess the demographics data in terms of missing data. Pay attention to the following points as you perform your analysis, and take notes on what you observe. Make sure that you fill in the **Discussion** cell with your findings and decisions at the end of each step that has one!\n",
    "\n",
    "#### Step 1.1.1: Convert Missing Value Codes to NaNs\n",
    "The fourth column of the feature attributes summary (loaded in above as `feat_info`) documents the codes from the data dictionary that indicate missing or unknown data. While the file encodes this as a list (e.g. `[-1,0]`), this will get read in as a string object. You'll need to do a little bit of parsing to make use of it to identify and clean the data. Convert data that matches a 'missing' or 'unknown' value code into a numpy NaN value. You might want to see how much data takes on a 'missing' or 'unknown' code, and how much data is naturally missing, as a point of interest.\n",
    "\n",
    "**As one more reminder, you are encouraged to add additional cells to break up your analysis into manageable chunks.**"
   ]
  },
  {
   "cell_type": "code",
   "execution_count": 7,
   "metadata": {},
   "outputs": [],
   "source": [
    "# Identify missing or unknown data values and convert them to NaNs.\n",
    "import ast\n",
    "for i, column in enumerate(azdias.columns):\n",
    "    str_n = feat_info['missing_or_unknown'].iloc[i]\n",
    "    if i in [57, 58, 59]:\n",
    "        list_n = str_n[1: -1].split(',')\n",
    "    else:\n",
    "        list_n = ast.literal_eval(str_n)\n",
    "    for num in list_n:\n",
    "        azdias[column].replace(num, np.NaN, inplace = True)"
   ]
  },
  {
   "cell_type": "markdown",
   "metadata": {},
   "source": [
    "#### Step 1.1.2: Assess Missing Data in Each Column\n",
    "\n",
    "How much missing data is present in each column? There are a few columns that are outliers in terms of the proportion of values that are missing. You will want to use matplotlib's [`hist()`](https://matplotlib.org/api/_as_gen/matplotlib.pyplot.hist.html) function to visualize the distribution of missing value counts to find these columns. Identify and document these columns. While some of these columns might have justifications for keeping or re-encoding the data, for this project you should just remove them from the dataframe. (Feel free to make remarks about these outlier columns in the discussion, however!)\n",
    "\n",
    "For the remaining features, are there any patterns in which columns have, or share, missing data?"
   ]
  },
  {
   "cell_type": "code",
   "execution_count": 8,
   "metadata": {},
   "outputs": [
    {
     "data": {
      "text/plain": [
       "AGER_TYP        76.955435\n",
       "TITEL_KZ        99.757636\n",
       "KK_KUNDENTYP    65.596749\n",
       "KBA05_BAUMAX    53.468668\n",
       "dtype: float64"
      ]
     },
     "execution_count": 8,
     "metadata": {},
     "output_type": "execute_result"
    }
   ],
   "source": [
    "# Perform an assessment of how much missing data there is in each column of the\n",
    "# dataset.\n",
    "# Let's take a look at the \n",
    "null_list = azdias.isnull().sum()\n",
    "null_per = null_list / len(azdias) * 100\n",
    "null_per[null_per > 50]"
   ]
  },
  {
   "cell_type": "code",
   "execution_count": 9,
   "metadata": {},
   "outputs": [
    {
     "data": {
      "image/png": "[encoded data removed]",
      "text/plain": [
       "<Figure size 720x360 with 1 Axes>"
      ]
     },
     "metadata": {},
     "output_type": "display_data"
    }
   ],
   "source": [
    "# Investigate patterns in the amount of missing data in each column.\n",
    "\n",
    "plt.figure(figsize=(10,5))\n",
    "plt.title('Distribution of the Ratio of Missing Data in Each Column')\n",
    "plt.hist(null_per, bins = np.linspace(10,100,19))\n",
    "plt.xlabel('Percentage of Missing Data')\n",
    "plt.ylabel('Count')\n",
    "plt.show()"
   ]
  },
  {
   "cell_type": "code",
   "execution_count": 10,
   "metadata": {},
   "outputs": [
    {
     "data": {
      "image/png": "[encoded data removed]",
      "text/plain": [
       "<Figure size 720x360 with 1 Axes>"
      ]
     },
     "metadata": {},
     "output_type": "display_data"
    }
   ],
   "source": [
    "plt.figure(figsize=(10,5))\n",
    "plt.title('Distribution of the Ratio of Missing Data in Each Column (Below 20%)')\n",
    "plt.hist(null_per, bins = np.linspace(0,20,20))\n",
    "plt.xlabel('Percentage of Missing Data')\n",
    "plt.ylabel('Count')\n",
    "plt.show()"
   ]
  },
  {
   "cell_type": "code",
   "execution_count": 11,
   "metadata": {},
   "outputs": [],
   "source": [
    "# Remove the outlier columns from the dataset. (You'll perform other data\n",
    "# engineering tasks such as re-encoding and imputation later.)\n",
    "azdias.drop('TITEL_KZ', axis = 1, inplace = True)"
   ]
  },
  {
   "cell_type": "code",
   "execution_count": 12,
   "metadata": {},
   "outputs": [],
   "source": [
    "drop_index = feat_info[feat_info['attribute'] == 'TITEL_KZ'].index[0]\n",
    "feat_info.drop(drop_index, axis = 0, inplace = True)"
   ]
  },
  {
   "cell_type": "markdown",
   "metadata": {},
   "source": [
    "#### Let's take a look if any column share missing value."
   ]
  },
  {
   "cell_type": "code",
   "execution_count": 13,
   "metadata": {},
   "outputs": [
    {
     "data": {
      "text/plain": [
       "0         24\n",
       "116515     7\n",
       "4854       6\n",
       "133324     6\n",
       "93148      4\n",
       "73499      4\n",
       "111196     3\n",
       "99352      3\n",
       "93740      3\n",
       "97375      2\n",
       "77792      2\n",
       "158064     2\n",
       "93155      1\n",
       "584612     1\n",
       "108164     1\n",
       "685843     1\n",
       "147988     1\n",
       "99611      1\n",
       "97274      1\n",
       "108315     1\n",
       "73969      1\n",
       "18348      1\n",
       "97632      1\n",
       "476524     1\n",
       "2881       1\n",
       "105800     1\n",
       "97008      1\n",
       "310267     1\n",
       "94572      1\n",
       "889061     1\n",
       "392318     1\n",
       "dtype: int64"
      ]
     },
     "execution_count": 13,
     "metadata": {},
     "output_type": "execute_result"
    }
   ],
   "source": [
    "# The counts of the missing value\n",
    "null_list.value_counts()"
   ]
  },
  {
   "cell_type": "code",
   "execution_count": 14,
   "metadata": {},
   "outputs": [
    {
     "data": {
      "text/plain": [
       "Int64Index([4854, 73499, 77792, 93148, 93740, 97375, 99352, 111196, 116515,\n",
       "            133324],\n",
       "           dtype='int64')"
      ]
     },
     "execution_count": 14,
     "metadata": {},
     "output_type": "execute_result"
    }
   ],
   "source": [
    "same_list_val = null_list.value_counts().index[1:11]\n",
    "same_list_val = same_list_val.sort_values()\n",
    "same_list_val"
   ]
  },
  {
   "cell_type": "code",
   "execution_count": 15,
   "metadata": {},
   "outputs": [],
   "source": [
    "# Sort the missing value lsit and save the index\n",
    "null_sorted = null_list.sort_values()\n",
    "null_sorted_index = null_sorted.index"
   ]
  },
  {
   "cell_type": "code",
   "execution_count": 16,
   "metadata": {},
   "outputs": [],
   "source": [
    "same_list = [[] for _ in range(len(same_list_val))]\n",
    "cur_index = 0\n",
    "for i in range(len(null_sorted)):\n",
    "    if null_sorted[i] < same_list_val[cur_index]:\n",
    "        continue\n",
    "    if null_sorted[i] > same_list_val[cur_index]:\n",
    "        cur_index += 1\n",
    "        if cur_index == len(same_list_val):\n",
    "            break\n",
    "    if null_sorted[i] == same_list_val[cur_index]:\n",
    "        same_list[cur_index].append(null_sorted_index[i])"
   ]
  },
  {
   "cell_type": "code",
   "execution_count": 17,
   "metadata": {},
   "outputs": [
    {
     "name": "stdout",
     "output_type": "stream",
     "text": [
      "The following feature share 4854 missing value:\n",
      " ['GFK_URLAUBERTYP', 'LP_STATUS_GROB', 'LP_STATUS_FEIN', 'ONLINE_AFFINITAET', 'RETOURTYP_BK_S', 'CJT_GESAMTTYP'] \n",
      "\n",
      "The following feature share 73499 missing value:\n",
      " ['WOHNDAUER_2008', 'ANZ_TITEL', 'SOHO_KZ', 'ANZ_PERSONEN'] \n",
      "\n",
      "The following feature share 77792 missing value:\n",
      " ['LP_FAMILIE_GROB', 'LP_FAMILIE_FEIN'] \n",
      "\n",
      "The following feature share 93148 missing value:\n",
      " ['OST_WEST_KZ', 'WOHNLAGE', 'GEBAEUDETYP', 'MIN_GEBAEUDEJAHR'] \n",
      "\n",
      "The following feature share 93740 missing value:\n",
      " ['BALLRAUM', 'EWDICHTE', 'INNENSTADT'] \n",
      "\n",
      "The following feature share 97375 missing value:\n",
      " ['ARBEIT', 'RELAT_AB'] \n",
      "\n",
      "The following feature share 99352 missing value:\n",
      " ['CAMEO_DEUG_2015', 'CAMEO_DEU_2015', 'CAMEO_INTL_2015'] \n",
      "\n",
      "The following feature share 111196 missing value:\n",
      " ['HEALTH_TYP', 'VERS_TYP', 'SHOPPER_TYP'] \n",
      "\n",
      "The following feature share 116515 missing value:\n",
      " ['PLZ8_ANTG2', 'PLZ8_ANTG3', 'PLZ8_ANTG1', 'PLZ8_ANTG4', 'PLZ8_BAUMAX', 'PLZ8_HHZ', 'PLZ8_GBZ'] \n",
      "\n",
      "The following feature share 133324 missing value:\n",
      " ['KBA05_ANTG3', 'KBA05_ANTG2', 'KBA05_ANTG1', 'MOBI_REGIO', 'KBA05_GBZ', 'KBA05_ANTG4'] \n",
      "\n"
     ]
    }
   ],
   "source": [
    "for i in range(len(same_list_val)):\n",
    "    print('The following feature share {} missing value:\\n {} \\n'.format(same_list_val[i], same_list[i]))"
   ]
  },
  {
   "cell_type": "markdown",
   "metadata": {},
   "source": [
    "#### Discussion 1.1.2: Assess Missing Data in Each Column\n",
    "\n",
    "From the first graph we can see the distribution of the missing value, there is a feature ('TITEL_KZ') composed of 99% of the missing value so that I decide to drop it as a outlier.\n",
    "\n",
    "Then the second graph shows the feature number of feature with 0-20% missing value. Most of the features has missing value below 20%. \n",
    "\n",
    "The following code shows and print out how many fetures shares the same missing value."
   ]
  },
  {
   "cell_type": "markdown",
   "metadata": {},
   "source": [
    "#### Step 1.1.3: Assess Missing Data in Each Row\n",
    "\n",
    "Now, you'll perform a similar assessment for the rows of the dataset. How much data is missing in each row? As with the columns, you should see some groups of points that have a very different numbers of missing values. Divide the data into two subsets: one for data points that are above some threshold for missing values, and a second subset for points below that threshold.\n",
    "\n",
    "In order to know what to do with the outlier rows, we should see if the distribution of data values on columns that are not missing data (or are missing very little data) are similar or different between the two groups. Select at least five of these columns and compare the distribution of values.\n",
    "- You can use seaborn's [`countplot()`](https://seaborn.pydata.org/generated/seaborn.countplot.html) function to create a bar chart of code frequencies and matplotlib's [`subplot()`](https://matplotlib.org/api/_as_gen/matplotlib.pyplot.subplot.html) function to put bar charts for the two subplots side by side.\n",
    "- To reduce repeated code, you might want to write a function that can perform this comparison, taking as one of its arguments a column to be compared.\n",
    "\n",
    "Depending on what you observe in your comparison, this will have implications on how you approach your conclusions later in the analysis. If the distributions of non-missing features look similar between the data with many missing values and the data with few or no missing values, then we could argue that simply dropping those points from the analysis won't present a major issue. On the other hand, if the data with many missing values looks very different from the data with few or no missing values, then we should make a note on those data as special. Make sure you report your observations in the discussion section. **Either way, you should continue your analysis below using just the subset of the data with few or no missing values.**"
   ]
  },
  {
   "cell_type": "code",
   "execution_count": 18,
   "metadata": {},
   "outputs": [],
   "source": [
    "# How much data is missing in each row of the dataset?\n",
    "azdias['Missing_num'] = azdias.isnull().sum(axis=1)"
   ]
  },
  {
   "cell_type": "code",
   "execution_count": 19,
   "metadata": {},
   "outputs": [
    {
     "data": {
      "text/plain": [
       "count    891221.000000\n",
       "mean          8.398442\n",
       "std          13.971185\n",
       "min           0.000000\n",
       "25%           2.000000\n",
       "50%           3.000000\n",
       "75%           5.000000\n",
       "max          53.000000\n",
       "Name: Missing_num, dtype: float64"
      ]
     },
     "execution_count": 19,
     "metadata": {},
     "output_type": "execute_result"
    }
   ],
   "source": [
    "azdias['Missing_num'].describe()"
   ]
  },
  {
   "cell_type": "code",
   "execution_count": 20,
   "metadata": {},
   "outputs": [
    {
     "data": {
      "image/png": "[encoded data removed]",
      "text/plain": [
       "<Figure size 720x144 with 1 Axes>"
      ]
     },
     "metadata": {},
     "output_type": "display_data"
    }
   ],
   "source": [
    "plt.figure(figsize=(10,2))\n",
    "plt.title('Distribution of the Ratio of Missing Data in Each Row')\n",
    "plt.hist(azdias.isnull().sum(axis = 1) / len(azdias.columns) * 100, bins = np.linspace(0,100,20))\n",
    "plt.xlabel('Percentage of Missing Data')\n",
    "plt.ylabel('Count')\n",
    "plt.show()"
   ]
  },
  {
   "cell_type": "code",
   "execution_count": 21,
   "metadata": {},
   "outputs": [
    {
     "data": {
      "image/png": "[encoded data removed]",
      "text/plain": [
       "<Figure size 720x144 with 1 Axes>"
      ]
     },
     "metadata": {},
     "output_type": "display_data"
    }
   ],
   "source": [
    "plt.figure(figsize=(10,2))\n",
    "plt.title('Distribution of the Number of Missing Data in Each Row')\n",
    "plt.hist(azdias.isnull().sum(axis = 1), bins = np.linspace(0,60,30))\n",
    "plt.xlabel('Percentage of Missing Data')\n",
    "plt.ylabel('Count')\n",
    "plt.show()"
   ]
  },
  {
   "cell_type": "code",
   "execution_count": 22,
   "metadata": {},
   "outputs": [],
   "source": [
    "# Write code to divide the data into two subsets based on the number of missing\n",
    "# values in each row.\n",
    "azdias_1 = azdias[azdias['Missing_num'] <= 30]\n",
    "azdias_2 = azdias[azdias['Missing_num'] > 30]"
   ]
  },
  {
   "cell_type": "code",
   "execution_count": 23,
   "metadata": {},
   "outputs": [],
   "source": [
    "# Drop the helper feature\n",
    "azdias_1 = azdias_1.drop('Missing_num', axis = 1)\n",
    "azdias_2 = azdias_2.drop('Missing_num', axis = 1)\n",
    "azdias = azdias.drop('Missing_num', axis = 1)"
   ]
  },
  {
   "cell_type": "code",
   "execution_count": 24,
   "metadata": {},
   "outputs": [],
   "source": [
    "# Compare the distribution of values for at least five columns where there are\n",
    "# no or few missing values, between the two subsets.\n",
    "def plot(column_name):\n",
    "    plt.figure(figsize=(12,4))\n",
    "    plt.subplot(121)\n",
    "    sns.set(style=\"darkgrid\")\n",
    "    ax = sns.countplot(x = column_name, data=azdias_1)\n",
    "    plt.title(\"Group 1: <= 30 Missing Value\")\n",
    "    plt.subplot(122)\n",
    "    sns.set(style=\"darkgrid\")\n",
    "    ax = sns.countplot(x = column_name, data=azdias_2)\n",
    "    plt.title(\"Group 2: > 30 Missing Value\")\n",
    "    plt.tight_layout()"
   ]
  },
  {
   "cell_type": "code",
   "execution_count": 105,
   "metadata": {},
   "outputs": [
    {
     "data": {
      "image/png": "[encoded data removed]",
      "text/plain": [
       "<matplotlib.figure.Figure at 0x7f0f328e2390>"
      ]
     },
     "metadata": {},
     "output_type": "display_data"
    },
    {
     "data": {
      "image/png": "[encoded data removed]",
      "text/plain": [
       "<matplotlib.figure.Figure at 0x7f0f3c9a62e8>"
      ]
     },
     "metadata": {},
     "output_type": "display_data"
    },
    {
     "data": {
      "image/png": "[encoded data removed]",
      "text/plain": [
       "<matplotlib.figure.Figure at 0x7f0f313d0400>"
      ]
     },
     "metadata": {},
     "output_type": "display_data"
    },
    {
     "data": {
      "image/png": "[encoded data removed]",
      "text/plain": [
       "<matplotlib.figure.Figure at 0x7f0f311b3278>"
      ]
     },
     "metadata": {},
     "output_type": "display_data"
    },
    {
     "data": {
      "image/png": "[encoded data removed]",
      "text/plain": [
       "<matplotlib.figure.Figure at 0x7f0f32937b70>"
      ]
     },
     "metadata": {},
     "output_type": "display_data"
    },
    {
     "data": {
      "image/png": "[encoded data removed]",
      "text/plain": [
       "<matplotlib.figure.Figure at 0x7f0f3294f6d8>"
      ]
     },
     "metadata": {},
     "output_type": "display_data"
    },
    {
     "data": {
      "image/png": "[encoded data removed]",
      "text/plain": [
       "<matplotlib.figure.Figure at 0x7f0f3c9c1f98>"
      ]
     },
     "metadata": {},
     "output_type": "display_data"
    },
    {
     "data": {
      "image/png": "[encoded data removed]",
      "text/plain": [
       "<matplotlib.figure.Figure at 0x7f0f3287e278>"
      ]
     },
     "metadata": {},
     "output_type": "display_data"
    },
    {
     "data": {
      "image/png": "[encoded data removed]",
      "text/plain": [
       "<matplotlib.figure.Figure at 0x7f0f3ccff710>"
      ]
     },
     "metadata": {},
     "output_type": "display_data"
    },
    {
     "data": {
      "image/png": "[encoded data removed]",
      "text/plain": [
       "<matplotlib.figure.Figure at 0x7f0f33087ef0>"
      ]
     },
     "metadata": {},
     "output_type": "display_data"
    }
   ],
   "source": [
    "# Plot 10 random columns and compare the value distribution of 2 groups\n",
    "# Sometime there will be error as some of the columns in second groups are all missing values\n",
    "import random\n",
    "for i in range(10):\n",
    "    plot(azdias.columns[random.randint(0, 85)])"
   ]
  },
  {
   "cell_type": "markdown",
   "metadata": {},
   "source": [
    "#### Discussion 1.1.3: Assess Missing Data in Each Row\n",
    "From the very top graphs of the count/percentage of missing value in each row, we can see the highest percentage of missing value one column contain is around 60%. I set the threhold to be 30 to separate the original dataset into two.\n",
    "\n",
    "By looking at the 10 comparison graphs above we can see that some of the features has similar trend in both groups but more of them has different trend. Even sometime we will achive error during plotting due to the whole column is composed of missing value in group 2. \n",
    "\n",
    "Some of the columns (such as 'FINANZ_UNAUFFAELLIGER' and 'SEMIO_VERT') plot above can be used to separate group 1 and group 2. "
   ]
  },
  {
   "cell_type": "markdown",
   "metadata": {},
   "source": [
    "### Step 1.2: Select and Re-Encode Features\n",
    "\n",
    "Checking for missing data isn't the only way in which you can prepare a dataset for analysis. Since the unsupervised learning techniques to be used will only work on data that is encoded numerically, you need to make a few encoding changes or additional assumptions to be able to make progress. In addition, while almost all of the values in the dataset are encoded using numbers, not all of them represent numeric values. Check the third column of the feature summary (`feat_info`) for a summary of types of measurement.\n",
    "- For numeric and interval data, these features can be kept without changes.\n",
    "- Most of the variables in the dataset are ordinal in nature. While ordinal values may technically be non-linear in spacing, make the simplifying assumption that the ordinal variables can be treated as being interval in nature (that is, kept without any changes).\n",
    "- Special handling may be necessary for the remaining two variable types: categorical, and 'mixed'.\n",
    "\n",
    "In the first two parts of this sub-step, you will perform an investigation of the categorical and mixed-type features and make a decision on each of them, whether you will keep, drop, or re-encode each. Then, in the last part, you will create a new data frame with only the selected and engineered columns.\n",
    "\n",
    "Data wrangling is often the trickiest part of the data analysis process, and there's a lot of it to be done here. But stick with it: once you're done with this step, you'll be ready to get to the machine learning parts of the project!"
   ]
  },
  {
   "cell_type": "code",
   "execution_count": 25,
   "metadata": {},
   "outputs": [
    {
     "data": {
      "text/plain": [
       "ordinal        49\n",
       "categorical    20\n",
       "mixed           7\n",
       "numeric         7\n",
       "interval        1\n",
       "Name: type, dtype: int64"
      ]
     },
     "execution_count": 25,
     "metadata": {},
     "output_type": "execute_result"
    }
   ],
   "source": [
    "# How many features are there of each data type?\n",
    "feat_info.type.value_counts()"
   ]
  },
  {
   "cell_type": "markdown",
   "metadata": {},
   "source": [
    "#### Step 1.2.1: Re-Encode Categorical Features\n",
    "\n",
    "For categorical data, you would ordinarily need to encode the levels as dummy variables. Depending on the number of categories, perform one of the following:\n",
    "- For binary (two-level) categoricals that take numeric values, you can keep them without needing to do anything.\n",
    "- There is one binary variable that takes on non-numeric values. For this one, you need to re-encode the values as numbers or create a dummy variable.\n",
    "- For multi-level categoricals (three or more values), you can choose to encode the values using multiple dummy variables (e.g. via [OneHotEncoder](http://scikit-learn.org/stable/modules/generated/sklearn.preprocessing.OneHotEncoder.html)), or (to keep things straightforward) just drop them from the analysis. As always, document your choices in the Discussion section."
   ]
  },
  {
   "cell_type": "code",
   "execution_count": 26,
   "metadata": {},
   "outputs": [
    {
     "data": {
      "text/html": [
       "<div>\n",
       "<style scoped>\n",
       "    .dataframe tbody tr th:only-of-type {\n",
       "        vertical-align: middle;\n",
       "    }\n",
       "\n",
       "    .dataframe tbody tr th {\n",
       "        vertical-align: top;\n",
       "    }\n",
       "\n",
       "    .dataframe thead th {\n",
       "        text-align: right;\n",
       "    }\n",
       "</style>\n",
       "<table border=\"1\" class=\"dataframe\">\n",
       "  <thead>\n",
       "    <tr style=\"text-align: right;\">\n",
       "      <th></th>\n",
       "      <th>attribute</th>\n",
       "      <th>information_level</th>\n",
       "      <th>type</th>\n",
       "      <th>missing_or_unknown</th>\n",
       "    </tr>\n",
       "  </thead>\n",
       "  <tbody>\n",
       "    <tr>\n",
       "      <th>0</th>\n",
       "      <td>AGER_TYP</td>\n",
       "      <td>person</td>\n",
       "      <td>categorical</td>\n",
       "      <td>[-1,0]</td>\n",
       "    </tr>\n",
       "    <tr>\n",
       "      <th>2</th>\n",
       "      <td>ANREDE_KZ</td>\n",
       "      <td>person</td>\n",
       "      <td>categorical</td>\n",
       "      <td>[-1,0]</td>\n",
       "    </tr>\n",
       "    <tr>\n",
       "      <th>3</th>\n",
       "      <td>CJT_GESAMTTYP</td>\n",
       "      <td>person</td>\n",
       "      <td>categorical</td>\n",
       "      <td>[0]</td>\n",
       "    </tr>\n",
       "    <tr>\n",
       "      <th>10</th>\n",
       "      <td>FINANZTYP</td>\n",
       "      <td>person</td>\n",
       "      <td>categorical</td>\n",
       "      <td>[-1]</td>\n",
       "    </tr>\n",
       "    <tr>\n",
       "      <th>12</th>\n",
       "      <td>GFK_URLAUBERTYP</td>\n",
       "      <td>person</td>\n",
       "      <td>categorical</td>\n",
       "      <td>[]</td>\n",
       "    </tr>\n",
       "    <tr>\n",
       "      <th>13</th>\n",
       "      <td>GREEN_AVANTGARDE</td>\n",
       "      <td>person</td>\n",
       "      <td>categorical</td>\n",
       "      <td>[]</td>\n",
       "    </tr>\n",
       "    <tr>\n",
       "      <th>17</th>\n",
       "      <td>LP_FAMILIE_FEIN</td>\n",
       "      <td>person</td>\n",
       "      <td>categorical</td>\n",
       "      <td>[0]</td>\n",
       "    </tr>\n",
       "    <tr>\n",
       "      <th>18</th>\n",
       "      <td>LP_FAMILIE_GROB</td>\n",
       "      <td>person</td>\n",
       "      <td>categorical</td>\n",
       "      <td>[0]</td>\n",
       "    </tr>\n",
       "    <tr>\n",
       "      <th>19</th>\n",
       "      <td>LP_STATUS_FEIN</td>\n",
       "      <td>person</td>\n",
       "      <td>categorical</td>\n",
       "      <td>[0]</td>\n",
       "    </tr>\n",
       "    <tr>\n",
       "      <th>20</th>\n",
       "      <td>LP_STATUS_GROB</td>\n",
       "      <td>person</td>\n",
       "      <td>categorical</td>\n",
       "      <td>[0]</td>\n",
       "    </tr>\n",
       "    <tr>\n",
       "      <th>21</th>\n",
       "      <td>NATIONALITAET_KZ</td>\n",
       "      <td>person</td>\n",
       "      <td>categorical</td>\n",
       "      <td>[-1,0]</td>\n",
       "    </tr>\n",
       "    <tr>\n",
       "      <th>38</th>\n",
       "      <td>SHOPPER_TYP</td>\n",
       "      <td>person</td>\n",
       "      <td>categorical</td>\n",
       "      <td>[-1]</td>\n",
       "    </tr>\n",
       "    <tr>\n",
       "      <th>39</th>\n",
       "      <td>SOHO_KZ</td>\n",
       "      <td>person</td>\n",
       "      <td>categorical</td>\n",
       "      <td>[-1]</td>\n",
       "    </tr>\n",
       "    <tr>\n",
       "      <th>41</th>\n",
       "      <td>VERS_TYP</td>\n",
       "      <td>person</td>\n",
       "      <td>categorical</td>\n",
       "      <td>[-1]</td>\n",
       "    </tr>\n",
       "    <tr>\n",
       "      <th>42</th>\n",
       "      <td>ZABEOTYP</td>\n",
       "      <td>person</td>\n",
       "      <td>categorical</td>\n",
       "      <td>[-1,9]</td>\n",
       "    </tr>\n",
       "    <tr>\n",
       "      <th>47</th>\n",
       "      <td>KK_KUNDENTYP</td>\n",
       "      <td>household</td>\n",
       "      <td>categorical</td>\n",
       "      <td>[-1]</td>\n",
       "    </tr>\n",
       "    <tr>\n",
       "      <th>52</th>\n",
       "      <td>GEBAEUDETYP</td>\n",
       "      <td>building</td>\n",
       "      <td>categorical</td>\n",
       "      <td>[-1,0]</td>\n",
       "    </tr>\n",
       "    <tr>\n",
       "      <th>55</th>\n",
       "      <td>OST_WEST_KZ</td>\n",
       "      <td>building</td>\n",
       "      <td>categorical</td>\n",
       "      <td>[-1]</td>\n",
       "    </tr>\n",
       "    <tr>\n",
       "      <th>57</th>\n",
       "      <td>CAMEO_DEUG_2015</td>\n",
       "      <td>microcell_rr4</td>\n",
       "      <td>categorical</td>\n",
       "      <td>[-1,X]</td>\n",
       "    </tr>\n",
       "    <tr>\n",
       "      <th>58</th>\n",
       "      <td>CAMEO_DEU_2015</td>\n",
       "      <td>microcell_rr4</td>\n",
       "      <td>categorical</td>\n",
       "      <td>[XX]</td>\n",
       "    </tr>\n",
       "  </tbody>\n",
       "</table>\n",
       "</div>"
      ],
      "text/plain": [
       "           attribute information_level         type missing_or_unknown\n",
       "0           AGER_TYP            person  categorical             [-1,0]\n",
       "2          ANREDE_KZ            person  categorical             [-1,0]\n",
       "3      CJT_GESAMTTYP            person  categorical                [0]\n",
       "10         FINANZTYP            person  categorical               [-1]\n",
       "12   GFK_URLAUBERTYP            person  categorical                 []\n",
       "13  GREEN_AVANTGARDE            person  categorical                 []\n",
       "17   LP_FAMILIE_FEIN            person  categorical                [0]\n",
       "18   LP_FAMILIE_GROB            person  categorical                [0]\n",
       "19    LP_STATUS_FEIN            person  categorical                [0]\n",
       "20    LP_STATUS_GROB            person  categorical                [0]\n",
       "21  NATIONALITAET_KZ            person  categorical             [-1,0]\n",
       "38       SHOPPER_TYP            person  categorical               [-1]\n",
       "39           SOHO_KZ            person  categorical               [-1]\n",
       "41          VERS_TYP            person  categorical               [-1]\n",
       "42          ZABEOTYP            person  categorical             [-1,9]\n",
       "47      KK_KUNDENTYP         household  categorical               [-1]\n",
       "52       GEBAEUDETYP          building  categorical             [-1,0]\n",
       "55       OST_WEST_KZ          building  categorical               [-1]\n",
       "57   CAMEO_DEUG_2015     microcell_rr4  categorical             [-1,X]\n",
       "58    CAMEO_DEU_2015     microcell_rr4  categorical               [XX]"
      ]
     },
     "execution_count": 26,
     "metadata": {},
     "output_type": "execute_result"
    }
   ],
   "source": [
    "# Assess categorical variables: which are binary, which are multi-level, and\n",
    "# which one needs to be re-encoded?\n",
    "feat_info[feat_info['type'] == 'categorical']"
   ]
  },
  {
   "cell_type": "code",
   "execution_count": 27,
   "metadata": {},
   "outputs": [
    {
     "data": {
      "image/png": "[encoded data removed]",
      "text/plain": [
       "<Figure size 432x288 with 1 Axes>"
      ]
     },
     "metadata": {},
     "output_type": "display_data"
    },
    {
     "data": {
      "image/png": "[encoded data removed]",
      "text/plain": [
       "<Figure size 432x288 with 1 Axes>"
      ]
     },
     "metadata": {},
     "output_type": "display_data"
    },
    {
     "data": {
      "image/png": "[encoded data removed]",
      "text/plain": [
       "<Figure size 432x288 with 1 Axes>"
      ]
     },
     "metadata": {},
     "output_type": "display_data"
    },
    {
     "data": {
      "image/png": "[encoded data removed]",
      "text/plain": [
       "<Figure size 432x288 with 1 Axes>"
      ]
     },
     "metadata": {},
     "output_type": "display_data"
    },
    {
     "data": {
      "image/png": "[encoded data removed]",
      "text/plain": [
       "<Figure size 432x288 with 1 Axes>"
      ]
     },
     "metadata": {},
     "output_type": "display_data"
    },
    {
     "data": {
      "image/png": "[encoded data removed]",
      "text/plain": [
       "<Figure size 432x288 with 1 Axes>"
      ]
     },
     "metadata": {},
     "output_type": "display_data"
    },
    {
     "data": {
      "image/png": "[encoded data removed]",
      "text/plain": [
       "<Figure size 432x288 with 1 Axes>"
      ]
     },
     "metadata": {},
     "output_type": "display_data"
    },
    {
     "data": {
      "image/png": "[encoded data removed]",
      "text/plain": [
       "<Figure size 432x288 with 1 Axes>"
      ]
     },
     "metadata": {},
     "output_type": "display_data"
    },
    {
     "data": {
      "image/png": "[encoded data removed]",
      "text/plain": [
       "<Figure size 432x288 with 1 Axes>"
      ]
     },
     "metadata": {},
     "output_type": "display_data"
    },
    {
     "data": {
      "image/png": "[encoded data removed]",
      "text/plain": [
       "<Figure size 432x288 with 1 Axes>"
      ]
     },
     "metadata": {},
     "output_type": "display_data"
    },
    {
     "data": {
      "image/png": "[encoded data removed]",
      "text/plain": [
       "<Figure size 432x288 with 1 Axes>"
      ]
     },
     "metadata": {},
     "output_type": "display_data"
    },
    {
     "data": {
      "image/png": "[encoded data removed]",
      "text/plain": [
       "<Figure size 432x288 with 1 Axes>"
      ]
     },
     "metadata": {},
     "output_type": "display_data"
    },
    {
     "data": {
      "image/png": "[encoded data removed]",
      "text/plain": [
       "<Figure size 432x288 with 1 Axes>"
      ]
     },
     "metadata": {},
     "output_type": "display_data"
    },
    {
     "data": {
      "image/png": "[encoded data removed]",
      "text/plain": [
       "<Figure size 432x288 with 1 Axes>"
      ]
     },
     "metadata": {},
     "output_type": "display_data"
    },
    {
     "data": {
      "image/png": "[encoded data removed]",
      "text/plain": [
       "<Figure size 432x288 with 1 Axes>"
      ]
     },
     "metadata": {},
     "output_type": "display_data"
    },
    {
     "data": {
      "image/png": "[encoded data removed]",
      "text/plain": [
       "<Figure size 432x288 with 1 Axes>"
      ]
     },
     "metadata": {},
     "output_type": "display_data"
    },
    {
     "data": {
      "image/png": "[encoded data removed]",
      "text/plain": [
       "<Figure size 432x288 with 1 Axes>"
      ]
     },
     "metadata": {},
     "output_type": "display_data"
    },
    {
     "data": {
      "image/png": "[encoded data removed]",
      "text/plain": [
       "<Figure size 432x288 with 1 Axes>"
      ]
     },
     "metadata": {},
     "output_type": "display_data"
    },
    {
     "data": {
      "image/png": "[encoded data removed]",
      "text/plain": [
       "<Figure size 432x288 with 1 Axes>"
      ]
     },
     "metadata": {},
     "output_type": "display_data"
    },
    {
     "data": {
      "image/png": "[encoded data removed]",
      "text/plain": [
       "<Figure size 432x288 with 1 Axes>"
      ]
     },
     "metadata": {},
     "output_type": "display_data"
    }
   ],
   "source": [
    "# Re-encode categorical variable(s) to be kept in the analysis.\n",
    "for attribute in feat_info[feat_info['type'] == 'categorical']['attribute']:\n",
    "    sns.set(style=\"darkgrid\")\n",
    "    ax = sns.countplot(x = attribute, data=azdias_1)\n",
    "    plt.show()"
   ]
  },
  {
   "cell_type": "code",
   "execution_count": 28,
   "metadata": {},
   "outputs": [],
   "source": [
    "azdias_1 = pd.get_dummies(azdias_1, columns = ['AGER_TYP','CJT_GESAMTTYP','FINANZTYP', 'GREEN_AVANTGARDE', 'LP_FAMILIE_GROB',\n",
    "                                              'LP_STATUS_GROB', 'NATIONALITAET_KZ', 'SHOPPER_TYP', 'ZABEOTYP', 'KK_KUNDENTYP',\n",
    "                                              'GEBAEUDETYP', 'OST_WEST_KZ', 'CAMEO_DEUG_2015'])"
   ]
  },
  {
   "cell_type": "code",
   "execution_count": 29,
   "metadata": {},
   "outputs": [],
   "source": [
    "azdias_encode = azdias_1.drop(columns = ['GFK_URLAUBERTYP', 'LP_FAMILIE_FEIN', 'CAMEO_DEU_2015'])"
   ]
  },
  {
   "cell_type": "markdown",
   "metadata": {},
   "source": [
    "#### Discussion 1.2.1: Re-Encode Categorical Features\n",
    "During this step, we dive into the categorical features.\n",
    "\n",
    "By checking the feat_info, we can see there are 20 categorical features, based on the value counts, I drop the features with more than 10 values, namely 'GFK_URLAUBERTYP', 'LP_FAMILIE_FEIN' and 'CAMEO_DEU_2015'. \n",
    "\n",
    "There are 5 binary (two-level) categoricals which we don't need to make changes, except one of them ('OST_WEST_KZ') takes on non-numeric values. So we need to one-hot encode it as well.\n",
    "\n",
    "The rest 12 categorical features are one-hot encoded by get_dummies shown in the code above.\n",
    "These features are 'AGER_TYP', 'CJT_GESAMTTYP', 'FINANZTYP', 'GREEN_AVANTGARDE', 'LP_FAMILIE_GROB',\n",
    "                   'LP_STATUS_GROB', 'NATIONALITAET_KZ', 'SHOPPER_TYP', 'ZABEOTYP', 'KK_KUNDENTYP',\n",
    "                   'GEBAEUDETYP' and 'CAMEO_DEUG_2015'.\n",
    "\n",
    "So in the end, after feature engineering on categorical features, we have 133 columns in total."
   ]
  },
  {
   "cell_type": "markdown",
   "metadata": {},
   "source": [
    "#### Step 1.2.2: Engineer Mixed-Type Features\n",
    "\n",
    "There are a handful of features that are marked as \"mixed\" in the feature summary that require special treatment in order to be included in the analysis. There are two in particular that deserve attention; the handling of the rest are up to your own choices:\n",
    "- \"PRAEGENDE_JUGENDJAHRE\" combines information on three dimensions: generation by decade, movement (mainstream vs. avantgarde), and nation (east vs. west). While there aren't enough levels to disentangle east from west, you should create two new variables to capture the other two dimensions: an interval-type variable for decade, and a binary variable for movement.\n",
    "- \"CAMEO_INTL_2015\" combines information on two axes: wealth and life stage. Break up the two-digit codes by their 'tens'-place and 'ones'-place digits into two new ordinal variables (which, for the purposes of this project, is equivalent to just treating them as their raw numeric values).\n",
    "- If you decide to keep or engineer new features around the other mixed-type features, make sure you note your steps in the Discussion section.\n",
    "\n",
    "Be sure to check `Data_Dictionary.md` for the details needed to finish these tasks."
   ]
  },
  {
   "cell_type": "code",
   "execution_count": 30,
   "metadata": {},
   "outputs": [
    {
     "data": {
      "text/html": [
       "<div>\n",
       "<style scoped>\n",
       "    .dataframe tbody tr th:only-of-type {\n",
       "        vertical-align: middle;\n",
       "    }\n",
       "\n",
       "    .dataframe tbody tr th {\n",
       "        vertical-align: top;\n",
       "    }\n",
       "\n",
       "    .dataframe thead th {\n",
       "        text-align: right;\n",
       "    }\n",
       "</style>\n",
       "<table border=\"1\" class=\"dataframe\">\n",
       "  <thead>\n",
       "    <tr style=\"text-align: right;\">\n",
       "      <th></th>\n",
       "      <th>attribute</th>\n",
       "      <th>information_level</th>\n",
       "      <th>type</th>\n",
       "      <th>missing_or_unknown</th>\n",
       "    </tr>\n",
       "  </thead>\n",
       "  <tbody>\n",
       "    <tr>\n",
       "      <th>15</th>\n",
       "      <td>LP_LEBENSPHASE_FEIN</td>\n",
       "      <td>person</td>\n",
       "      <td>mixed</td>\n",
       "      <td>[0]</td>\n",
       "    </tr>\n",
       "    <tr>\n",
       "      <th>16</th>\n",
       "      <td>LP_LEBENSPHASE_GROB</td>\n",
       "      <td>person</td>\n",
       "      <td>mixed</td>\n",
       "      <td>[0]</td>\n",
       "    </tr>\n",
       "    <tr>\n",
       "      <th>22</th>\n",
       "      <td>PRAEGENDE_JUGENDJAHRE</td>\n",
       "      <td>person</td>\n",
       "      <td>mixed</td>\n",
       "      <td>[-1,0]</td>\n",
       "    </tr>\n",
       "    <tr>\n",
       "      <th>56</th>\n",
       "      <td>WOHNLAGE</td>\n",
       "      <td>building</td>\n",
       "      <td>mixed</td>\n",
       "      <td>[-1]</td>\n",
       "    </tr>\n",
       "    <tr>\n",
       "      <th>59</th>\n",
       "      <td>CAMEO_INTL_2015</td>\n",
       "      <td>microcell_rr4</td>\n",
       "      <td>mixed</td>\n",
       "      <td>[-1,XX]</td>\n",
       "    </tr>\n",
       "    <tr>\n",
       "      <th>64</th>\n",
       "      <td>KBA05_BAUMAX</td>\n",
       "      <td>microcell_rr3</td>\n",
       "      <td>mixed</td>\n",
       "      <td>[-1,0]</td>\n",
       "    </tr>\n",
       "    <tr>\n",
       "      <th>79</th>\n",
       "      <td>PLZ8_BAUMAX</td>\n",
       "      <td>macrocell_plz8</td>\n",
       "      <td>mixed</td>\n",
       "      <td>[-1,0]</td>\n",
       "    </tr>\n",
       "  </tbody>\n",
       "</table>\n",
       "</div>"
      ],
      "text/plain": [
       "                attribute information_level   type missing_or_unknown\n",
       "15    LP_LEBENSPHASE_FEIN            person  mixed                [0]\n",
       "16    LP_LEBENSPHASE_GROB            person  mixed                [0]\n",
       "22  PRAEGENDE_JUGENDJAHRE            person  mixed             [-1,0]\n",
       "56               WOHNLAGE          building  mixed               [-1]\n",
       "59        CAMEO_INTL_2015     microcell_rr4  mixed            [-1,XX]\n",
       "64           KBA05_BAUMAX     microcell_rr3  mixed             [-1,0]\n",
       "79            PLZ8_BAUMAX    macrocell_plz8  mixed             [-1,0]"
      ]
     },
     "execution_count": 30,
     "metadata": {},
     "output_type": "execute_result"
    }
   ],
   "source": [
    "feat_info[feat_info['type'] == 'mixed']"
   ]
  },
  {
   "cell_type": "code",
   "execution_count": 31,
   "metadata": {},
   "outputs": [
    {
     "data": {
      "text/plain": [
       "14.0    182978\n",
       "8.0     141621\n",
       "10.0     85805\n",
       "5.0      84691\n",
       "3.0      53844\n",
       "15.0     42544\n",
       "11.0     35751\n",
       "9.0      33570\n",
       "6.0      25652\n",
       "12.0     24446\n",
       "1.0      20678\n",
       "4.0      20451\n",
       "2.0       7479\n",
       "13.0      5764\n",
       "7.0       4010\n",
       "Name: PRAEGENDE_JUGENDJAHRE, dtype: int64"
      ]
     },
     "execution_count": 31,
     "metadata": {},
     "output_type": "execute_result"
    }
   ],
   "source": [
    "# Investigate \"PRAEGENDE_JUGENDJAHRE\" and engineer two new variables.\n",
    "azdias_encode['PRAEGENDE_JUGENDJAHRE'].value_counts()"
   ]
  },
  {
   "cell_type": "code",
   "execution_count": 32,
   "metadata": {},
   "outputs": [],
   "source": [
    "# Engineer New Features for \"PRAEGENDE_JUGENDJAHRE\"\n",
    "azdias_encode.loc[azdias_encode['PRAEGENDE_JUGENDJAHRE'] == 1.0, 'Decade'] = '40s'\n",
    "azdias_encode.loc[azdias_encode['PRAEGENDE_JUGENDJAHRE'] == 1.0, 'Movement'] = 'MainStream'\n",
    "azdias_encode.loc[azdias_encode['PRAEGENDE_JUGENDJAHRE'] == 1.0, 'Nation'] = 'E+W'\n",
    "\n",
    "azdias_encode.loc[azdias_encode['PRAEGENDE_JUGENDJAHRE'] == 2.0, 'Decade'] = '40s'\n",
    "azdias_encode.loc[azdias_encode['PRAEGENDE_JUGENDJAHRE'] == 2.0, 'Movement'] = 'Avantgarde'\n",
    "azdias_encode.loc[azdias_encode['PRAEGENDE_JUGENDJAHRE'] == 2.0, 'Nation'] = 'E+W'\n",
    "\n",
    "azdias_encode.loc[azdias_encode['PRAEGENDE_JUGENDJAHRE'] == 3.0, 'Decade'] = '50s'\n",
    "azdias_encode.loc[azdias_encode['PRAEGENDE_JUGENDJAHRE'] == 3.0, 'Movement'] = 'MainStream'\n",
    "azdias_encode.loc[azdias_encode['PRAEGENDE_JUGENDJAHRE'] == 3.0, 'Nation'] = 'E+W'\n",
    "\n",
    "azdias_encode.loc[azdias_encode['PRAEGENDE_JUGENDJAHRE'] == 4.0, 'Decade'] = '50s'\n",
    "azdias_encode.loc[azdias_encode['PRAEGENDE_JUGENDJAHRE'] == 4.0, 'Movement'] = 'Avantgarde'\n",
    "azdias_encode.loc[azdias_encode['PRAEGENDE_JUGENDJAHRE'] == 4.0, 'Nation'] = 'E+W'\n",
    "\n",
    "azdias_encode.loc[azdias_encode['PRAEGENDE_JUGENDJAHRE'] == 5.0, 'Decade'] = '60s'\n",
    "azdias_encode.loc[azdias_encode['PRAEGENDE_JUGENDJAHRE'] == 5.0, 'Movement'] = 'MainStream'\n",
    "azdias_encode.loc[azdias_encode['PRAEGENDE_JUGENDJAHRE'] == 5.0, 'Nation'] = 'E+W'\n",
    "\n",
    "azdias_encode.loc[azdias_encode['PRAEGENDE_JUGENDJAHRE'] == 6.0, 'Decade'] = '60s'\n",
    "azdias_encode.loc[azdias_encode['PRAEGENDE_JUGENDJAHRE'] == 6.0, 'Movement'] = 'Avantgarde'\n",
    "azdias_encode.loc[azdias_encode['PRAEGENDE_JUGENDJAHRE'] == 6.0, 'Nation'] = 'W'\n",
    "\n",
    "azdias_encode.loc[azdias_encode['PRAEGENDE_JUGENDJAHRE'] == 7.0, 'Decade'] = '60s'\n",
    "azdias_encode.loc[azdias_encode['PRAEGENDE_JUGENDJAHRE'] == 7.0, 'Movement'] = 'Avantgarde'\n",
    "azdias_encode.loc[azdias_encode['PRAEGENDE_JUGENDJAHRE'] == 7.0, 'Nation'] = 'E'\n",
    "\n",
    "azdias_encode.loc[azdias_encode['PRAEGENDE_JUGENDJAHRE'] == 8.0, 'Decade'] = '70s'\n",
    "azdias_encode.loc[azdias_encode['PRAEGENDE_JUGENDJAHRE'] == 8.0, 'Movement'] = 'MainStream'\n",
    "azdias_encode.loc[azdias_encode['PRAEGENDE_JUGENDJAHRE'] == 8.0, 'Nation'] = 'E+W'\n",
    "\n",
    "azdias_encode.loc[azdias_encode['PRAEGENDE_JUGENDJAHRE'] == 9.0, 'Decade'] = '70s'\n",
    "azdias_encode.loc[azdias_encode['PRAEGENDE_JUGENDJAHRE'] == 9.0, 'Movement'] = 'Avantgarde'\n",
    "azdias_encode.loc[azdias_encode['PRAEGENDE_JUGENDJAHRE'] == 9.0, 'Nation'] = 'E+W'\n",
    "\n",
    "azdias_encode.loc[azdias_encode['PRAEGENDE_JUGENDJAHRE'] == 10.0, 'Decade'] = '80s'\n",
    "azdias_encode.loc[azdias_encode['PRAEGENDE_JUGENDJAHRE'] == 10.0, 'Movement'] = 'MainStream'\n",
    "azdias_encode.loc[azdias_encode['PRAEGENDE_JUGENDJAHRE'] == 10.0, 'Nation'] = 'W'\n",
    "\n",
    "azdias_encode.loc[azdias_encode['PRAEGENDE_JUGENDJAHRE'] == 11.0, 'Decade'] = '80s'\n",
    "azdias_encode.loc[azdias_encode['PRAEGENDE_JUGENDJAHRE'] == 11.0, 'Movement'] = 'Avantgarde'\n",
    "azdias_encode.loc[azdias_encode['PRAEGENDE_JUGENDJAHRE'] == 11.0, 'Nation'] = 'W'\n",
    "\n",
    "azdias_encode.loc[azdias_encode['PRAEGENDE_JUGENDJAHRE'] == 12.0, 'Decade'] = '80s'\n",
    "azdias_encode.loc[azdias_encode['PRAEGENDE_JUGENDJAHRE'] == 12.0, 'Movement'] = 'MainStream'\n",
    "azdias_encode.loc[azdias_encode['PRAEGENDE_JUGENDJAHRE'] == 12.0, 'Nation'] = 'E'\n",
    "\n",
    "azdias_encode.loc[azdias_encode['PRAEGENDE_JUGENDJAHRE'] == 13.0, 'Decade'] = '80s'\n",
    "azdias_encode.loc[azdias_encode['PRAEGENDE_JUGENDJAHRE'] == 13.0, 'Movement'] = 'Avantgarde'\n",
    "azdias_encode.loc[azdias_encode['PRAEGENDE_JUGENDJAHRE'] == 13.0, 'Nation'] = 'E'\n",
    "\n",
    "azdias_encode.loc[azdias_encode['PRAEGENDE_JUGENDJAHRE'] == 14.0, 'Decade'] = '90s'\n",
    "azdias_encode.loc[azdias_encode['PRAEGENDE_JUGENDJAHRE'] == 14.0, 'Movement'] = 'MainStream'\n",
    "azdias_encode.loc[azdias_encode['PRAEGENDE_JUGENDJAHRE'] == 14.0, 'Nation'] = 'E+W'\n",
    "\n",
    "azdias_encode.loc[azdias_encode['PRAEGENDE_JUGENDJAHRE'] == 15.0, 'Decade'] = '90s'\n",
    "azdias_encode.loc[azdias_encode['PRAEGENDE_JUGENDJAHRE'] == 15.0, 'Movement'] = 'Avantgarde'\n",
    "azdias_encode.loc[azdias_encode['PRAEGENDE_JUGENDJAHRE'] == 15.0, 'Nation'] = 'E+W'"
   ]
  },
  {
   "cell_type": "code",
   "execution_count": 33,
   "metadata": {},
   "outputs": [],
   "source": [
    "# One-hot encode the 3 new features\n",
    "azdias_encode = pd.get_dummies(azdias_encode, columns = ['Decade', 'Movement', 'Nation'])\n",
    "# Drop the original feature\n",
    "azdias_encode = azdias_encode.drop('PRAEGENDE_JUGENDJAHRE', axis = 1)"
   ]
  },
  {
   "cell_type": "code",
   "execution_count": 34,
   "metadata": {},
   "outputs": [],
   "source": [
    "# Change data type to float\n",
    "azdias_encode[\"CAMEO_INTL_2015\"] = azdias_encode[\"CAMEO_INTL_2015\"].astype(float)\n",
    "\n",
    "# Investigate \"CAMEO_INTL_2015\" and engineer two new variables.\n",
    "azdias_encode.loc[azdias_encode[\"CAMEO_INTL_2015\"] // 10 == 1.0, 'Wealth'] = 'Wealthy Households'\n",
    "azdias_encode.loc[azdias_encode[\"CAMEO_INTL_2015\"] // 10 == 2.0, 'Wealth'] = 'Prosperous Households'\n",
    "azdias_encode.loc[azdias_encode[\"CAMEO_INTL_2015\"] // 10 == 3.0, 'Wealth'] = 'Comfortable Households'\n",
    "azdias_encode.loc[azdias_encode[\"CAMEO_INTL_2015\"] // 10 == 4.0, 'Wealth'] = 'Less Affluent Households'\n",
    "azdias_encode.loc[azdias_encode[\"CAMEO_INTL_2015\"] // 10 == 5.0, 'Wealth'] = 'Poorer Households'\n",
    "\n",
    "azdias_encode.loc[azdias_encode[\"CAMEO_INTL_2015\"] % 10 == 1.0, 'Life_Stage'] = 'Pre-Family Couples & Singles'\n",
    "azdias_encode.loc[azdias_encode[\"CAMEO_INTL_2015\"] % 10 == 2.0, 'Life_Stage'] = 'Young Couples With Children'\n",
    "azdias_encode.loc[azdias_encode[\"CAMEO_INTL_2015\"] % 10 == 3.0, 'Life_Stage'] = 'Families With School Age Children'\n",
    "azdias_encode.loc[azdias_encode[\"CAMEO_INTL_2015\"] % 10 == 4.0, 'Life_Stage'] = 'Older Families &  Mature Couples'\n",
    "azdias_encode.loc[azdias_encode[\"CAMEO_INTL_2015\"] % 10 == 5.0, 'Life_Stage'] = 'Elders In Retirement'"
   ]
  },
  {
   "cell_type": "code",
   "execution_count": 35,
   "metadata": {},
   "outputs": [],
   "source": [
    "# One-hot encode the 2 new features\n",
    "azdias_encode = pd.get_dummies(azdias_encode, columns = ['Wealth', 'Life_Stage'])\n",
    "# Drop the original feature\n",
    "azdias_encode = azdias_encode.drop('CAMEO_INTL_2015', axis = 1)"
   ]
  },
  {
   "cell_type": "code",
   "execution_count": 36,
   "metadata": {},
   "outputs": [],
   "source": [
    "# One-hot encoding all the other mixed features\n",
    "azdias_encode = pd.get_dummies(azdias_encode, columns = ['LP_LEBENSPHASE_FEIN', 'LP_LEBENSPHASE_GROB', 'WOHNLAGE',\n",
    "                                                         'KBA05_BAUMAX', 'PLZ8_BAUMAX'])"
   ]
  },
  {
   "cell_type": "markdown",
   "metadata": {},
   "source": [
    "#### Discussion 1.2.2: Engineer Mixed-Type Features\n",
    "\n",
    "(Double-click this cell and replace this text with your own text, reporting your findings and decisions regarding mixed-value features. Which ones did you keep, which did you drop, and what engineering steps did you perform?)"
   ]
  },
  {
   "cell_type": "markdown",
   "metadata": {},
   "source": [
    "#### Step 1.2.3: Complete Feature Selection\n",
    "\n",
    "In order to finish this step up, you need to make sure that your data frame now only has the columns that you want to keep. To summarize, the dataframe should consist of the following:\n",
    "- All numeric, interval, and ordinal type columns from the original dataset.\n",
    "- Binary categorical features (all numerically-encoded).\n",
    "- Engineered features from other multi-level categorical features and mixed features.\n",
    "\n",
    "Make sure that for any new columns that you have engineered, that you've excluded the original columns from the final dataset. Otherwise, their values will interfere with the analysis later on the project. For example, you should not keep \"PRAEGENDE_JUGENDJAHRE\", since its values won't be useful for the algorithm: only the values derived from it in the engineered features you created should be retained. As a reminder, your data should only be from **the subset with few or no missing values**."
   ]
  },
  {
   "cell_type": "code",
   "execution_count": null,
   "metadata": {},
   "outputs": [],
   "source": [
    "# If there are other re-engineering tasks you need to perform, make sure you\n",
    "# take care of them here. (Dealing with missing data will come in step 2.1.)\n",
    "\n"
   ]
  },
  {
   "cell_type": "code",
   "execution_count": 37,
   "metadata": {},
   "outputs": [
    {
     "data": {
      "image/png": "[encoded data removed]",
      "text/plain": [
       "<Figure size 720x360 with 1 Axes>"
      ]
     },
     "metadata": {},
     "output_type": "display_data"
    }
   ],
   "source": [
    "# Do whatever you need to in order to ensure that the dataframe only contains\n",
    "# the columns that should be passed to the algorithm functions.\n",
    "\n",
    "null_list = azdias_encode.isnull().sum()\n",
    "null_per = null_list / len(azdias) * 100\n",
    "plt.figure(figsize=(10,5))\n",
    "plt.title('Distribution of the Ratio of Missing Data in Each Column')\n",
    "plt.hist(null_per)\n",
    "plt.xlabel('Percentage of Missing Data')\n",
    "plt.ylabel('Count')\n",
    "plt.show()"
   ]
  },
  {
   "cell_type": "markdown",
   "metadata": {},
   "source": [
    "### Step 1.3: Create a Cleaning Function\n",
    "\n",
    "Even though you've finished cleaning up the general population demographics data, it's important to look ahead to the future and realize that you'll need to perform the same cleaning steps on the customer demographics data. In this substep, complete the function below to execute the main feature selection, encoding, and re-engineering steps you performed above. Then, when it comes to looking at the customer data in Step 3, you can just run this function on that DataFrame to get the trimmed dataset in a single step."
   ]
  },
  {
   "cell_type": "code",
   "execution_count": 1,
   "metadata": {},
   "outputs": [],
   "source": [
    "def clean_data(df):\n",
    "    \"\"\"\n",
    "    Perform feature trimming, re-encoding, and engineering for demographics\n",
    "    data\n",
    "    \n",
    "    INPUT: Demographics DataFrame\n",
    "    OUTPUT: Trimmed and cleaned demographics DataFrame\n",
    "    \"\"\"\n",
    "    \n",
    "    # Put in code here to execute all main cleaning steps:\n",
    "    # convert missing value codes into NaNs, ...\n",
    "    \n",
    "    \n",
    "    # remove selected columns and rows, ...\n",
    "\n",
    "    \n",
    "    # select, re-encode, and engineer column values.\n",
    "\n",
    "    \n",
    "    # Return the cleaned dataframe.\n",
    "    \n",
    "    "
   ]
  },
  {
   "cell_type": "markdown",
   "metadata": {},
   "source": [
    "## Step 2: Feature Transformation\n",
    "\n",
    "### Step 2.1: Apply Feature Scaling\n",
    "\n",
    "Before we apply dimensionality reduction techniques to the data, we need to perform feature scaling so that the principal component vectors are not influenced by the natural differences in scale for features. Starting from this part of the project, you'll want to keep an eye on the [API reference page for sklearn](http://scikit-learn.org/stable/modules/classes.html) to help you navigate to all of the classes and functions that you'll need. In this substep, you'll need to check the following:\n",
    "\n",
    "- sklearn requires that data not have missing values in order for its estimators to work properly. So, before applying the scaler to your data, make sure that you've cleaned the DataFrame of the remaining missing values before applying your scaler. This can be as simple as just removing all data points with missing data, or applying an [Imputer](http://scikit-learn.org/stable/modules/generated/sklearn.preprocessing.Imputer.html) to replace all missing values. You might also try a more complicated procedure where you temporarily remove missing values in order to compute the scaling parameters before re-introducing those missing values and applying imputation. Think about how much missing data you have and what possible effects each approach might have on your analysis, and justify your decision in the discussion section below.\n",
    "- For the actual scaling function, a [StandardScaler](http://scikit-learn.org/stable/modules/generated/sklearn.preprocessing.StandardScaler.html) instance is suggested, scaling each feature to mean 0 and standard deviation 1.\n",
    "- For these classes, you can make use of the `.fit_transform()` method to both fit a procedure to the data as well as apply the transformation to the data at the same time. Don't forget to keep the fit sklearn objects handy, since you'll be applying them to the customer demographics data towards the end of the project."
   ]
  },
  {
   "cell_type": "code",
   "execution_count": 38,
   "metadata": {},
   "outputs": [],
   "source": [
    "# To simplify the notation\n",
    "df = azdias_encode"
   ]
  },
  {
   "cell_type": "code",
   "execution_count": 39,
   "metadata": {},
   "outputs": [],
   "source": [
    "# If you've not yet cleaned the dataset of all NaN values, then investigate and\n",
    "# do that now."
   ]
  },
  {
   "cell_type": "code",
   "execution_count": 40,
   "metadata": {},
   "outputs": [
    {
     "data": {
      "text/html": [
       "<div>\n",
       "<style scoped>\n",
       "    .dataframe tbody tr th:only-of-type {\n",
       "        vertical-align: middle;\n",
       "    }\n",
       "\n",
       "    .dataframe tbody tr th {\n",
       "        vertical-align: top;\n",
       "    }\n",
       "\n",
       "    .dataframe thead th {\n",
       "        text-align: right;\n",
       "    }\n",
       "</style>\n",
       "<table border=\"1\" class=\"dataframe\">\n",
       "  <thead>\n",
       "    <tr style=\"text-align: right;\">\n",
       "      <th></th>\n",
       "      <th>ALTERSKATEGORIE_GROB</th>\n",
       "      <th>ANREDE_KZ</th>\n",
       "      <th>FINANZ_MINIMALIST</th>\n",
       "      <th>FINANZ_SPARER</th>\n",
       "      <th>FINANZ_VORSORGER</th>\n",
       "      <th>FINANZ_ANLEGER</th>\n",
       "      <th>FINANZ_UNAUFFAELLIGER</th>\n",
       "      <th>FINANZ_HAUSBAUER</th>\n",
       "      <th>GEBURTSJAHR</th>\n",
       "      <th>HEALTH_TYP</th>\n",
       "      <th>...</th>\n",
       "      <th>KBA05_BAUMAX_1.0</th>\n",
       "      <th>KBA05_BAUMAX_2.0</th>\n",
       "      <th>KBA05_BAUMAX_3.0</th>\n",
       "      <th>KBA05_BAUMAX_4.0</th>\n",
       "      <th>KBA05_BAUMAX_5.0</th>\n",
       "      <th>PLZ8_BAUMAX_1.0</th>\n",
       "      <th>PLZ8_BAUMAX_2.0</th>\n",
       "      <th>PLZ8_BAUMAX_3.0</th>\n",
       "      <th>PLZ8_BAUMAX_4.0</th>\n",
       "      <th>PLZ8_BAUMAX_5.0</th>\n",
       "    </tr>\n",
       "  </thead>\n",
       "  <tbody>\n",
       "    <tr>\n",
       "      <th>count</th>\n",
       "      <td>795205.000000</td>\n",
       "      <td>798006.000000</td>\n",
       "      <td>798006.000000</td>\n",
       "      <td>798006.000000</td>\n",
       "      <td>798006.000000</td>\n",
       "      <td>798006.000000</td>\n",
       "      <td>798006.000000</td>\n",
       "      <td>798006.000000</td>\n",
       "      <td>487146.000000</td>\n",
       "      <td>761312.000000</td>\n",
       "      <td>...</td>\n",
       "      <td>798006.000000</td>\n",
       "      <td>798006.000000</td>\n",
       "      <td>798006.000000</td>\n",
       "      <td>798006.000000</td>\n",
       "      <td>798006.000000</td>\n",
       "      <td>798006.000000</td>\n",
       "      <td>798006.000000</td>\n",
       "      <td>798006.000000</td>\n",
       "      <td>798006.000000</td>\n",
       "      <td>798006.000000</td>\n",
       "    </tr>\n",
       "    <tr>\n",
       "      <th>mean</th>\n",
       "      <td>2.795402</td>\n",
       "      <td>1.521476</td>\n",
       "      <td>3.058926</td>\n",
       "      <td>2.716002</td>\n",
       "      <td>3.432907</td>\n",
       "      <td>2.840898</td>\n",
       "      <td>2.658243</td>\n",
       "      <td>3.114190</td>\n",
       "      <td>1967.091539</td>\n",
       "      <td>2.199030</td>\n",
       "      <td>...</td>\n",
       "      <td>0.261172</td>\n",
       "      <td>0.012135</td>\n",
       "      <td>0.075131</td>\n",
       "      <td>0.047265</td>\n",
       "      <td>0.123963</td>\n",
       "      <td>0.625998</td>\n",
       "      <td>0.088229</td>\n",
       "      <td>0.063573</td>\n",
       "      <td>0.071032</td>\n",
       "      <td>0.121970</td>\n",
       "    </tr>\n",
       "    <tr>\n",
       "      <th>std</th>\n",
       "      <td>1.018420</td>\n",
       "      <td>0.499539</td>\n",
       "      <td>1.377570</td>\n",
       "      <td>1.485080</td>\n",
       "      <td>1.376885</td>\n",
       "      <td>1.472757</td>\n",
       "      <td>1.399488</td>\n",
       "      <td>1.408092</td>\n",
       "      <td>17.796183</td>\n",
       "      <td>0.755169</td>\n",
       "      <td>...</td>\n",
       "      <td>0.439274</td>\n",
       "      <td>0.109490</td>\n",
       "      <td>0.263603</td>\n",
       "      <td>0.212206</td>\n",
       "      <td>0.329539</td>\n",
       "      <td>0.483864</td>\n",
       "      <td>0.283627</td>\n",
       "      <td>0.243992</td>\n",
       "      <td>0.256879</td>\n",
       "      <td>0.327252</td>\n",
       "    </tr>\n",
       "    <tr>\n",
       "      <th>min</th>\n",
       "      <td>1.000000</td>\n",
       "      <td>1.000000</td>\n",
       "      <td>1.000000</td>\n",
       "      <td>1.000000</td>\n",
       "      <td>1.000000</td>\n",
       "      <td>1.000000</td>\n",
       "      <td>1.000000</td>\n",
       "      <td>1.000000</td>\n",
       "      <td>1900.000000</td>\n",
       "      <td>1.000000</td>\n",
       "      <td>...</td>\n",
       "      <td>0.000000</td>\n",
       "      <td>0.000000</td>\n",
       "      <td>0.000000</td>\n",
       "      <td>0.000000</td>\n",
       "      <td>0.000000</td>\n",
       "      <td>0.000000</td>\n",
       "      <td>0.000000</td>\n",
       "      <td>0.000000</td>\n",
       "      <td>0.000000</td>\n",
       "      <td>0.000000</td>\n",
       "    </tr>\n",
       "    <tr>\n",
       "      <th>25%</th>\n",
       "      <td>2.000000</td>\n",
       "      <td>1.000000</td>\n",
       "      <td>2.000000</td>\n",
       "      <td>1.000000</td>\n",
       "      <td>2.000000</td>\n",
       "      <td>1.000000</td>\n",
       "      <td>1.000000</td>\n",
       "      <td>2.000000</td>\n",
       "      <td>1955.000000</td>\n",
       "      <td>2.000000</td>\n",
       "      <td>...</td>\n",
       "      <td>0.000000</td>\n",
       "      <td>0.000000</td>\n",
       "      <td>0.000000</td>\n",
       "      <td>0.000000</td>\n",
       "      <td>0.000000</td>\n",
       "      <td>0.000000</td>\n",
       "      <td>0.000000</td>\n",
       "      <td>0.000000</td>\n",
       "      <td>0.000000</td>\n",
       "      <td>0.000000</td>\n",
       "    </tr>\n",
       "    <tr>\n",
       "      <th>50%</th>\n",
       "      <td>3.000000</td>\n",
       "      <td>2.000000</td>\n",
       "      <td>3.000000</td>\n",
       "      <td>3.000000</td>\n",
       "      <td>4.000000</td>\n",
       "      <td>3.000000</td>\n",
       "      <td>2.000000</td>\n",
       "      <td>3.000000</td>\n",
       "      <td>1968.000000</td>\n",
       "      <td>2.000000</td>\n",
       "      <td>...</td>\n",
       "      <td>0.000000</td>\n",
       "      <td>0.000000</td>\n",
       "      <td>0.000000</td>\n",
       "      <td>0.000000</td>\n",
       "      <td>0.000000</td>\n",
       "      <td>1.000000</td>\n",
       "      <td>0.000000</td>\n",
       "      <td>0.000000</td>\n",
       "      <td>0.000000</td>\n",
       "      <td>0.000000</td>\n",
       "    </tr>\n",
       "    <tr>\n",
       "      <th>75%</th>\n",
       "      <td>4.000000</td>\n",
       "      <td>2.000000</td>\n",
       "      <td>4.000000</td>\n",
       "      <td>4.000000</td>\n",
       "      <td>5.000000</td>\n",
       "      <td>4.000000</td>\n",
       "      <td>4.000000</td>\n",
       "      <td>4.000000</td>\n",
       "      <td>1981.000000</td>\n",
       "      <td>3.000000</td>\n",
       "      <td>...</td>\n",
       "      <td>1.000000</td>\n",
       "      <td>0.000000</td>\n",
       "      <td>0.000000</td>\n",
       "      <td>0.000000</td>\n",
       "      <td>0.000000</td>\n",
       "      <td>1.000000</td>\n",
       "      <td>0.000000</td>\n",
       "      <td>0.000000</td>\n",
       "      <td>0.000000</td>\n",
       "      <td>0.000000</td>\n",
       "    </tr>\n",
       "    <tr>\n",
       "      <th>max</th>\n",
       "      <td>4.000000</td>\n",
       "      <td>2.000000</td>\n",
       "      <td>5.000000</td>\n",
       "      <td>5.000000</td>\n",
       "      <td>5.000000</td>\n",
       "      <td>5.000000</td>\n",
       "      <td>5.000000</td>\n",
       "      <td>5.000000</td>\n",
       "      <td>2017.000000</td>\n",
       "      <td>3.000000</td>\n",
       "      <td>...</td>\n",
       "      <td>1.000000</td>\n",
       "      <td>1.000000</td>\n",
       "      <td>1.000000</td>\n",
       "      <td>1.000000</td>\n",
       "      <td>1.000000</td>\n",
       "      <td>1.000000</td>\n",
       "      <td>1.000000</td>\n",
       "      <td>1.000000</td>\n",
       "      <td>1.000000</td>\n",
       "      <td>1.000000</td>\n",
       "    </tr>\n",
       "  </tbody>\n",
       "</table>\n",
       "<p>8 rows × 216 columns</p>\n",
       "</div>"
      ],
      "text/plain": [
       "       ALTERSKATEGORIE_GROB      ANREDE_KZ  FINANZ_MINIMALIST  FINANZ_SPARER  \\\n",
       "count         795205.000000  798006.000000      798006.000000  798006.000000   \n",
       "mean               2.795402       1.521476           3.058926       2.716002   \n",
       "std                1.018420       0.499539           1.377570       1.485080   \n",
       "min                1.000000       1.000000           1.000000       1.000000   \n",
       "25%                2.000000       1.000000           2.000000       1.000000   \n",
       "50%                3.000000       2.000000           3.000000       3.000000   \n",
       "75%                4.000000       2.000000           4.000000       4.000000   \n",
       "max                4.000000       2.000000           5.000000       5.000000   \n",
       "\n",
       "       FINANZ_VORSORGER  FINANZ_ANLEGER  FINANZ_UNAUFFAELLIGER  \\\n",
       "count     798006.000000   798006.000000          798006.000000   \n",
       "mean           3.432907        2.840898               2.658243   \n",
       "std            1.376885        1.472757               1.399488   \n",
       "min            1.000000        1.000000               1.000000   \n",
       "25%            2.000000        1.000000               1.000000   \n",
       "50%            4.000000        3.000000               2.000000   \n",
       "75%            5.000000        4.000000               4.000000   \n",
       "max            5.000000        5.000000               5.000000   \n",
       "\n",
       "       FINANZ_HAUSBAUER    GEBURTSJAHR     HEALTH_TYP       ...         \\\n",
       "count     798006.000000  487146.000000  761312.000000       ...          \n",
       "mean           3.114190    1967.091539       2.199030       ...          \n",
       "std            1.408092      17.796183       0.755169       ...          \n",
       "min            1.000000    1900.000000       1.000000       ...          \n",
       "25%            2.000000    1955.000000       2.000000       ...          \n",
       "50%            3.000000    1968.000000       2.000000       ...          \n",
       "75%            4.000000    1981.000000       3.000000       ...          \n",
       "max            5.000000    2017.000000       3.000000       ...          \n",
       "\n",
       "       KBA05_BAUMAX_1.0  KBA05_BAUMAX_2.0  KBA05_BAUMAX_3.0  KBA05_BAUMAX_4.0  \\\n",
       "count     798006.000000     798006.000000     798006.000000     798006.000000   \n",
       "mean           0.261172          0.012135          0.075131          0.047265   \n",
       "std            0.439274          0.109490          0.263603          0.212206   \n",
       "min            0.000000          0.000000          0.000000          0.000000   \n",
       "25%            0.000000          0.000000          0.000000          0.000000   \n",
       "50%            0.000000          0.000000          0.000000          0.000000   \n",
       "75%            1.000000          0.000000          0.000000          0.000000   \n",
       "max            1.000000          1.000000          1.000000          1.000000   \n",
       "\n",
       "       KBA05_BAUMAX_5.0  PLZ8_BAUMAX_1.0  PLZ8_BAUMAX_2.0  PLZ8_BAUMAX_3.0  \\\n",
       "count     798006.000000    798006.000000    798006.000000    798006.000000   \n",
       "mean           0.123963         0.625998         0.088229         0.063573   \n",
       "std            0.329539         0.483864         0.283627         0.243992   \n",
       "min            0.000000         0.000000         0.000000         0.000000   \n",
       "25%            0.000000         0.000000         0.000000         0.000000   \n",
       "50%            0.000000         1.000000         0.000000         0.000000   \n",
       "75%            0.000000         1.000000         0.000000         0.000000   \n",
       "max            1.000000         1.000000         1.000000         1.000000   \n",
       "\n",
       "       PLZ8_BAUMAX_4.0  PLZ8_BAUMAX_5.0  \n",
       "count    798006.000000    798006.000000  \n",
       "mean          0.071032         0.121970  \n",
       "std           0.256879         0.327252  \n",
       "min           0.000000         0.000000  \n",
       "25%           0.000000         0.000000  \n",
       "50%           0.000000         0.000000  \n",
       "75%           0.000000         0.000000  \n",
       "max           1.000000         1.000000  \n",
       "\n",
       "[8 rows x 216 columns]"
      ]
     },
     "execution_count": 40,
     "metadata": {},
     "output_type": "execute_result"
    }
   ],
   "source": [
    "df.describe()"
   ]
  },
  {
   "cell_type": "code",
   "execution_count": 41,
   "metadata": {},
   "outputs": [],
   "source": [
    "# Apply feature scaling to the general population demographics data.\n",
    "\n",
    "from sklearn.preprocessing import Imputer\n",
    "from sklearn.preprocessing import StandardScaler\n",
    "imp = Imputer(missing_values=float(\"NaN\"), strategy=\"mean\", axis=1, copy = False)\n",
    "scale = StandardScaler()"
   ]
  },
  {
   "cell_type": "code",
   "execution_count": 42,
   "metadata": {},
   "outputs": [],
   "source": [
    "df[df.columns] = scale.fit_transform(imp.fit_transform(df))"
   ]
  },
  {
   "cell_type": "code",
   "execution_count": 43,
   "metadata": {},
   "outputs": [
    {
     "data": {
      "text/plain": [
       "0"
      ]
     },
     "execution_count": 43,
     "metadata": {},
     "output_type": "execute_result"
    }
   ],
   "source": [
    "# Check all 'NAN's are transformed or not\n",
    "df.isnull().sum().sum()"
   ]
  },
  {
   "cell_type": "code",
   "execution_count": 44,
   "metadata": {},
   "outputs": [
    {
     "data": {
      "text/html": [
       "<div>\n",
       "<style scoped>\n",
       "    .dataframe tbody tr th:only-of-type {\n",
       "        vertical-align: middle;\n",
       "    }\n",
       "\n",
       "    .dataframe tbody tr th {\n",
       "        vertical-align: top;\n",
       "    }\n",
       "\n",
       "    .dataframe thead th {\n",
       "        text-align: right;\n",
       "    }\n",
       "</style>\n",
       "<table border=\"1\" class=\"dataframe\">\n",
       "  <thead>\n",
       "    <tr style=\"text-align: right;\">\n",
       "      <th></th>\n",
       "      <th>ALTERSKATEGORIE_GROB</th>\n",
       "      <th>ANREDE_KZ</th>\n",
       "      <th>FINANZ_MINIMALIST</th>\n",
       "      <th>FINANZ_SPARER</th>\n",
       "      <th>FINANZ_VORSORGER</th>\n",
       "      <th>FINANZ_ANLEGER</th>\n",
       "      <th>FINANZ_UNAUFFAELLIGER</th>\n",
       "      <th>FINANZ_HAUSBAUER</th>\n",
       "      <th>GEBURTSJAHR</th>\n",
       "      <th>HEALTH_TYP</th>\n",
       "      <th>...</th>\n",
       "      <th>KBA05_BAUMAX_1.0</th>\n",
       "      <th>KBA05_BAUMAX_2.0</th>\n",
       "      <th>KBA05_BAUMAX_3.0</th>\n",
       "      <th>KBA05_BAUMAX_4.0</th>\n",
       "      <th>KBA05_BAUMAX_5.0</th>\n",
       "      <th>PLZ8_BAUMAX_1.0</th>\n",
       "      <th>PLZ8_BAUMAX_2.0</th>\n",
       "      <th>PLZ8_BAUMAX_3.0</th>\n",
       "      <th>PLZ8_BAUMAX_4.0</th>\n",
       "      <th>PLZ8_BAUMAX_5.0</th>\n",
       "    </tr>\n",
       "  </thead>\n",
       "  <tbody>\n",
       "    <tr>\n",
       "      <th>count</th>\n",
       "      <td>7.980060e+05</td>\n",
       "      <td>7.980060e+05</td>\n",
       "      <td>7.980060e+05</td>\n",
       "      <td>7.980060e+05</td>\n",
       "      <td>7.980060e+05</td>\n",
       "      <td>7.980060e+05</td>\n",
       "      <td>7.980060e+05</td>\n",
       "      <td>7.980060e+05</td>\n",
       "      <td>7.980060e+05</td>\n",
       "      <td>7.980060e+05</td>\n",
       "      <td>...</td>\n",
       "      <td>7.980060e+05</td>\n",
       "      <td>7.980060e+05</td>\n",
       "      <td>7.980060e+05</td>\n",
       "      <td>7.980060e+05</td>\n",
       "      <td>7.980060e+05</td>\n",
       "      <td>7.980060e+05</td>\n",
       "      <td>7.980060e+05</td>\n",
       "      <td>7.980060e+05</td>\n",
       "      <td>7.980060e+05</td>\n",
       "      <td>7.980060e+05</td>\n",
       "    </tr>\n",
       "    <tr>\n",
       "      <th>mean</th>\n",
       "      <td>-6.245109e-16</td>\n",
       "      <td>-1.681516e-14</td>\n",
       "      <td>-5.489215e-15</td>\n",
       "      <td>3.373551e-15</td>\n",
       "      <td>2.429667e-14</td>\n",
       "      <td>-3.759261e-16</td>\n",
       "      <td>-5.812048e-15</td>\n",
       "      <td>9.390039e-15</td>\n",
       "      <td>-3.167724e-16</td>\n",
       "      <td>4.472608e-15</td>\n",
       "      <td>...</td>\n",
       "      <td>1.335841e-15</td>\n",
       "      <td>-1.571226e-14</td>\n",
       "      <td>-1.660693e-14</td>\n",
       "      <td>-9.132318e-15</td>\n",
       "      <td>-8.313541e-15</td>\n",
       "      <td>-9.223901e-15</td>\n",
       "      <td>4.491488e-14</td>\n",
       "      <td>6.507900e-15</td>\n",
       "      <td>3.738452e-14</td>\n",
       "      <td>7.755609e-15</td>\n",
       "    </tr>\n",
       "    <tr>\n",
       "      <th>std</th>\n",
       "      <td>1.000001e+00</td>\n",
       "      <td>1.000001e+00</td>\n",
       "      <td>1.000001e+00</td>\n",
       "      <td>1.000001e+00</td>\n",
       "      <td>1.000001e+00</td>\n",
       "      <td>1.000001e+00</td>\n",
       "      <td>1.000001e+00</td>\n",
       "      <td>1.000001e+00</td>\n",
       "      <td>1.000001e+00</td>\n",
       "      <td>1.000001e+00</td>\n",
       "      <td>...</td>\n",
       "      <td>1.000001e+00</td>\n",
       "      <td>1.000001e+00</td>\n",
       "      <td>1.000001e+00</td>\n",
       "      <td>1.000001e+00</td>\n",
       "      <td>1.000001e+00</td>\n",
       "      <td>1.000001e+00</td>\n",
       "      <td>1.000001e+00</td>\n",
       "      <td>1.000001e+00</td>\n",
       "      <td>1.000001e+00</td>\n",
       "      <td>1.000001e+00</td>\n",
       "    </tr>\n",
       "    <tr>\n",
       "      <th>min</th>\n",
       "      <td>-1.320238e+00</td>\n",
       "      <td>-1.043915e+00</td>\n",
       "      <td>-1.494607e+00</td>\n",
       "      <td>-1.155495e+00</td>\n",
       "      <td>-1.766966e+00</td>\n",
       "      <td>-1.249968e+00</td>\n",
       "      <td>-1.184893e+00</td>\n",
       "      <td>-1.501458e+00</td>\n",
       "      <td>-1.254837e+00</td>\n",
       "      <td>-5.664300e-01</td>\n",
       "      <td>...</td>\n",
       "      <td>-5.945548e-01</td>\n",
       "      <td>-1.108347e-01</td>\n",
       "      <td>-2.850162e-01</td>\n",
       "      <td>-2.227334e-01</td>\n",
       "      <td>-3.761701e-01</td>\n",
       "      <td>-1.293747e+00</td>\n",
       "      <td>-3.110727e-01</td>\n",
       "      <td>-2.605560e-01</td>\n",
       "      <td>-2.765202e-01</td>\n",
       "      <td>-3.727111e-01</td>\n",
       "    </tr>\n",
       "    <tr>\n",
       "      <th>25%</th>\n",
       "      <td>-6.065889e-01</td>\n",
       "      <td>-1.043915e+00</td>\n",
       "      <td>-7.686913e-01</td>\n",
       "      <td>-1.155495e+00</td>\n",
       "      <td>-1.040688e+00</td>\n",
       "      <td>-1.249968e+00</td>\n",
       "      <td>-1.184893e+00</td>\n",
       "      <td>-7.912767e-01</td>\n",
       "      <td>-1.251483e+00</td>\n",
       "      <td>-2.632820e-01</td>\n",
       "      <td>...</td>\n",
       "      <td>-5.945548e-01</td>\n",
       "      <td>-1.108347e-01</td>\n",
       "      <td>-2.850162e-01</td>\n",
       "      <td>-2.227334e-01</td>\n",
       "      <td>-3.761701e-01</td>\n",
       "      <td>-1.293747e+00</td>\n",
       "      <td>-3.110727e-01</td>\n",
       "      <td>-2.605560e-01</td>\n",
       "      <td>-2.765202e-01</td>\n",
       "      <td>-3.727111e-01</td>\n",
       "    </tr>\n",
       "    <tr>\n",
       "      <th>50%</th>\n",
       "      <td>1.070604e-01</td>\n",
       "      <td>9.579320e-01</td>\n",
       "      <td>-4.277506e-02</td>\n",
       "      <td>1.912341e-01</td>\n",
       "      <td>4.118673e-01</td>\n",
       "      <td>1.080298e-01</td>\n",
       "      <td>-4.703459e-01</td>\n",
       "      <td>-8.109534e-02</td>\n",
       "      <td>7.808064e-01</td>\n",
       "      <td>-2.632820e-01</td>\n",
       "      <td>...</td>\n",
       "      <td>-5.945548e-01</td>\n",
       "      <td>-1.108347e-01</td>\n",
       "      <td>-2.850162e-01</td>\n",
       "      <td>-2.227334e-01</td>\n",
       "      <td>-3.761701e-01</td>\n",
       "      <td>7.729487e-01</td>\n",
       "      <td>-3.110727e-01</td>\n",
       "      <td>-2.605560e-01</td>\n",
       "      <td>-2.765202e-01</td>\n",
       "      <td>-3.727111e-01</td>\n",
       "    </tr>\n",
       "    <tr>\n",
       "      <th>75%</th>\n",
       "      <td>8.207097e-01</td>\n",
       "      <td>9.579320e-01</td>\n",
       "      <td>6.831411e-01</td>\n",
       "      <td>8.645988e-01</td>\n",
       "      <td>1.138145e+00</td>\n",
       "      <td>7.870288e-01</td>\n",
       "      <td>9.587487e-01</td>\n",
       "      <td>6.290861e-01</td>\n",
       "      <td>8.038925e-01</td>\n",
       "      <td>3.986596e-02</td>\n",
       "      <td>...</td>\n",
       "      <td>1.681931e+00</td>\n",
       "      <td>-1.108347e-01</td>\n",
       "      <td>-2.850162e-01</td>\n",
       "      <td>-2.227334e-01</td>\n",
       "      <td>-3.761701e-01</td>\n",
       "      <td>7.729487e-01</td>\n",
       "      <td>-3.110727e-01</td>\n",
       "      <td>-2.605560e-01</td>\n",
       "      <td>-2.765202e-01</td>\n",
       "      <td>-3.727111e-01</td>\n",
       "    </tr>\n",
       "    <tr>\n",
       "      <th>max</th>\n",
       "      <td>1.897689e+01</td>\n",
       "      <td>9.579320e-01</td>\n",
       "      <td>1.409057e+00</td>\n",
       "      <td>1.537963e+00</td>\n",
       "      <td>1.138145e+00</td>\n",
       "      <td>1.466028e+00</td>\n",
       "      <td>1.673296e+00</td>\n",
       "      <td>1.339267e+00</td>\n",
       "      <td>8.511143e-01</td>\n",
       "      <td>8.653095e+00</td>\n",
       "      <td>...</td>\n",
       "      <td>1.681931e+00</td>\n",
       "      <td>9.022449e+00</td>\n",
       "      <td>3.508573e+00</td>\n",
       "      <td>4.489673e+00</td>\n",
       "      <td>2.658372e+00</td>\n",
       "      <td>7.729487e-01</td>\n",
       "      <td>3.214683e+00</td>\n",
       "      <td>3.837947e+00</td>\n",
       "      <td>3.616373e+00</td>\n",
       "      <td>2.683043e+00</td>\n",
       "    </tr>\n",
       "  </tbody>\n",
       "</table>\n",
       "<p>8 rows × 216 columns</p>\n",
       "</div>"
      ],
      "text/plain": [
       "       ALTERSKATEGORIE_GROB     ANREDE_KZ  FINANZ_MINIMALIST  FINANZ_SPARER  \\\n",
       "count          7.980060e+05  7.980060e+05       7.980060e+05   7.980060e+05   \n",
       "mean          -6.245109e-16 -1.681516e-14      -5.489215e-15   3.373551e-15   \n",
       "std            1.000001e+00  1.000001e+00       1.000001e+00   1.000001e+00   \n",
       "min           -1.320238e+00 -1.043915e+00      -1.494607e+00  -1.155495e+00   \n",
       "25%           -6.065889e-01 -1.043915e+00      -7.686913e-01  -1.155495e+00   \n",
       "50%            1.070604e-01  9.579320e-01      -4.277506e-02   1.912341e-01   \n",
       "75%            8.207097e-01  9.579320e-01       6.831411e-01   8.645988e-01   \n",
       "max            1.897689e+01  9.579320e-01       1.409057e+00   1.537963e+00   \n",
       "\n",
       "       FINANZ_VORSORGER  FINANZ_ANLEGER  FINANZ_UNAUFFAELLIGER  \\\n",
       "count      7.980060e+05    7.980060e+05           7.980060e+05   \n",
       "mean       2.429667e-14   -3.759261e-16          -5.812048e-15   \n",
       "std        1.000001e+00    1.000001e+00           1.000001e+00   \n",
       "min       -1.766966e+00   -1.249968e+00          -1.184893e+00   \n",
       "25%       -1.040688e+00   -1.249968e+00          -1.184893e+00   \n",
       "50%        4.118673e-01    1.080298e-01          -4.703459e-01   \n",
       "75%        1.138145e+00    7.870288e-01           9.587487e-01   \n",
       "max        1.138145e+00    1.466028e+00           1.673296e+00   \n",
       "\n",
       "       FINANZ_HAUSBAUER   GEBURTSJAHR    HEALTH_TYP       ...         \\\n",
       "count      7.980060e+05  7.980060e+05  7.980060e+05       ...          \n",
       "mean       9.390039e-15 -3.167724e-16  4.472608e-15       ...          \n",
       "std        1.000001e+00  1.000001e+00  1.000001e+00       ...          \n",
       "min       -1.501458e+00 -1.254837e+00 -5.664300e-01       ...          \n",
       "25%       -7.912767e-01 -1.251483e+00 -2.632820e-01       ...          \n",
       "50%       -8.109534e-02  7.808064e-01 -2.632820e-01       ...          \n",
       "75%        6.290861e-01  8.038925e-01  3.986596e-02       ...          \n",
       "max        1.339267e+00  8.511143e-01  8.653095e+00       ...          \n",
       "\n",
       "       KBA05_BAUMAX_1.0  KBA05_BAUMAX_2.0  KBA05_BAUMAX_3.0  KBA05_BAUMAX_4.0  \\\n",
       "count      7.980060e+05      7.980060e+05      7.980060e+05      7.980060e+05   \n",
       "mean       1.335841e-15     -1.571226e-14     -1.660693e-14     -9.132318e-15   \n",
       "std        1.000001e+00      1.000001e+00      1.000001e+00      1.000001e+00   \n",
       "min       -5.945548e-01     -1.108347e-01     -2.850162e-01     -2.227334e-01   \n",
       "25%       -5.945548e-01     -1.108347e-01     -2.850162e-01     -2.227334e-01   \n",
       "50%       -5.945548e-01     -1.108347e-01     -2.850162e-01     -2.227334e-01   \n",
       "75%        1.681931e+00     -1.108347e-01     -2.850162e-01     -2.227334e-01   \n",
       "max        1.681931e+00      9.022449e+00      3.508573e+00      4.489673e+00   \n",
       "\n",
       "       KBA05_BAUMAX_5.0  PLZ8_BAUMAX_1.0  PLZ8_BAUMAX_2.0  PLZ8_BAUMAX_3.0  \\\n",
       "count      7.980060e+05     7.980060e+05     7.980060e+05     7.980060e+05   \n",
       "mean      -8.313541e-15    -9.223901e-15     4.491488e-14     6.507900e-15   \n",
       "std        1.000001e+00     1.000001e+00     1.000001e+00     1.000001e+00   \n",
       "min       -3.761701e-01    -1.293747e+00    -3.110727e-01    -2.605560e-01   \n",
       "25%       -3.761701e-01    -1.293747e+00    -3.110727e-01    -2.605560e-01   \n",
       "50%       -3.761701e-01     7.729487e-01    -3.110727e-01    -2.605560e-01   \n",
       "75%       -3.761701e-01     7.729487e-01    -3.110727e-01    -2.605560e-01   \n",
       "max        2.658372e+00     7.729487e-01     3.214683e+00     3.837947e+00   \n",
       "\n",
       "       PLZ8_BAUMAX_4.0  PLZ8_BAUMAX_5.0  \n",
       "count     7.980060e+05     7.980060e+05  \n",
       "mean      3.738452e-14     7.755609e-15  \n",
       "std       1.000001e+00     1.000001e+00  \n",
       "min      -2.765202e-01    -3.727111e-01  \n",
       "25%      -2.765202e-01    -3.727111e-01  \n",
       "50%      -2.765202e-01    -3.727111e-01  \n",
       "75%      -2.765202e-01    -3.727111e-01  \n",
       "max       3.616373e+00     2.683043e+00  \n",
       "\n",
       "[8 rows x 216 columns]"
      ]
     },
     "execution_count": 44,
     "metadata": {},
     "output_type": "execute_result"
    }
   ],
   "source": [
    "df.describe()"
   ]
  },
  {
   "cell_type": "markdown",
   "metadata": {},
   "source": [
    "### Discussion 2.1: Apply Feature Scaling\n",
    "\n",
    "In this part, I used Imputer to fill 'NAN' with mean value in each column and used standardscalar to scale original columns to mean 0 and standard derivative 1."
   ]
  },
  {
   "cell_type": "markdown",
   "metadata": {},
   "source": [
    "### Step 2.2: Perform Dimensionality Reduction\n",
    "\n",
    "On your scaled data, you are now ready to apply dimensionality reduction techniques.\n",
    "\n",
    "- Use sklearn's [PCA](http://scikit-learn.org/stable/modules/generated/sklearn.decomposition.PCA.html) class to apply principal component analysis on the data, thus finding the vectors of maximal variance in the data. To start, you should not set any parameters (so all components are computed) or set a number of components that is at least half the number of features (so there's enough features to see the general trend in variability).\n",
    "- Check out the ratio of variance explained by each principal component as well as the cumulative variance explained. Try plotting the cumulative or sequential values using matplotlib's [`plot()`](https://matplotlib.org/api/_as_gen/matplotlib.pyplot.plot.html) function. Based on what you find, select a value for the number of transformed features you'll retain for the clustering part of the project.\n",
    "- Once you've made a choice for the number of components to keep, make sure you re-fit a PCA instance to perform the decided-on transformation."
   ]
  },
  {
   "cell_type": "code",
   "execution_count": 45,
   "metadata": {},
   "outputs": [],
   "source": [
    "# Apply PCA to the data.\n",
    "from sklearn.decomposition import PCA\n",
    "pca = PCA()\n",
    "df_pca = pca.fit_transform(df)"
   ]
  },
  {
   "cell_type": "code",
   "execution_count": 46,
   "metadata": {},
   "outputs": [
    {
     "data": {
      "image/png": "[encoded data removed]",
      "text/plain": [
       "<Figure size 1440x720 with 1 Axes>"
      ]
     },
     "metadata": {},
     "output_type": "display_data"
    }
   ],
   "source": [
    "# Investigate the variance accounted for by each principal component.\n",
    "def scree_plot(pca):\n",
    "    num_components = len(pca.explained_variance_ratio_)\n",
    "    ind = np.arange(num_components)\n",
    "    vals = pca.explained_variance_ratio_\n",
    " \n",
    "    plt.figure(figsize=(20, 10))\n",
    "    ax = plt.subplot(111)\n",
    "    cumvals = np.cumsum(vals)\n",
    "    ax.bar(ind, vals)\n",
    "    ax.plot(ind, cumvals)\n",
    "    ax.xaxis.set_tick_params(width=0)\n",
    "    ax.yaxis.set_tick_params(width=2, length=12)\n",
    " \n",
    "    ax.set_xlabel(\"Principal Component\")\n",
    "    ax.set_ylabel(\"Variance Explained\")\n",
    "    plt.title('Explained Variance Per Principal Component')\n",
    "\n",
    "\n",
    "scree_plot(pca)"
   ]
  },
  {
   "cell_type": "code",
   "execution_count": 47,
   "metadata": {},
   "outputs": [
    {
     "data": {
      "image/png": "[encoded data removed]",
      "text/plain": [
       "<Figure size 1440x720 with 1 Axes>"
      ]
     },
     "metadata": {},
     "output_type": "display_data"
    }
   ],
   "source": [
    "# Re-apply PCA to the data while selecting for number of components to retain.\n",
    "pca = PCA(122)\n",
    "df_pca = pca.fit_transform(df)\n",
    "scree_plot(pca)"
   ]
  },
  {
   "cell_type": "markdown",
   "metadata": {},
   "source": [
    "### Discussion 2.2: Perform Dimensionality Reduction\n",
    "\n",
    "I kept 122 final principal components, we can see there is a small variance drop around 120. After some investigation I found the drop takes place at 122, the cumulative variance is around 95%, I think it's good enough to step forward into the next step. If it's not enough, I will try 150 later as it will reach a cumulative variance around 99%."
   ]
  },
  {
   "cell_type": "markdown",
   "metadata": {},
   "source": [
    "### Step 2.3: Interpret Principal Components\n",
    "\n",
    "Now that we have our transformed principal components, it's a nice idea to check out the weight of each variable on the first few components to see if they can be interpreted in some fashion.\n",
    "\n",
    "As a reminder, each principal component is a unit vector that points in the direction of highest variance (after accounting for the variance captured by earlier principal components). The further a weight is from zero, the more the principal component is in the direction of the corresponding feature. If two features have large weights of the same sign (both positive or both negative), then increases in one tend expect to be associated with increases in the other. To contrast, features with different signs can be expected to show a negative correlation: increases in one variable should result in a decrease in the other.\n",
    "\n",
    "- To investigate the features, you should map each weight to their corresponding feature name, then sort the features according to weight. The most interesting features for each principal component, then, will be those at the beginning and end of the sorted list. Use the data dictionary document to help you understand these most prominent features, their relationships, and what a positive or negative value on the principal component might indicate.\n",
    "- You should investigate and interpret feature associations from the first three principal components in this substep. To help facilitate this, you should write a function that you can call at any time to print the sorted list of feature weights, for the *i*-th principal component. This might come in handy in the next step of the project, when you interpret the tendencies of the discovered clusters."
   ]
  },
  {
   "cell_type": "code",
   "execution_count": 165,
   "metadata": {},
   "outputs": [],
   "source": [
    "def print_weights(n):\n",
    "    '''\n",
    "    n: number of principal component\n",
    "    '''\n",
    "    components = pd.DataFrame(np.round(pca.components_[n - 1: n], 4), columns = df.keys())\n",
    "    components.index = ['Weights']\n",
    "    components = components.sort_values(by = 'Weights', axis = 1, ascending=False)\n",
    "    components = components.T\n",
    "    print(components)\n",
    "    return components"
   ]
  },
  {
   "cell_type": "code",
   "execution_count": 166,
   "metadata": {},
   "outputs": [
    {
     "name": "stdout",
     "output_type": "stream",
     "text": [
      "                                         Weights\n",
      "FINANZ_MINIMALIST                         0.2098\n",
      "LP_STATUS_FEIN                            0.2041\n",
      "PLZ8_BAUMAX_1.0                           0.1381\n",
      "MOBI_REGIO                                0.1351\n",
      "KBA05_ANTG1                               0.1289\n",
      "LP_STATUS_GROB_5.0                        0.1277\n",
      "KBA05_GBZ                                 0.1253\n",
      "KBA05_BAUMAX_1.0                          0.1203\n",
      "KONSUMNAEHE                               0.1194\n",
      "GREEN_AVANTGARDE_1                        0.1175\n",
      "Movement_Avantgarde                       0.1175\n",
      "FINANZ_VORSORGER                          0.1139\n",
      "LP_STATUS_GROB_4.0                        0.1132\n",
      "INNENSTADT                                0.1063\n",
      "LP_LEBENSPHASE_GROB_12.0                  0.0985\n",
      "Wealth_Wealthy Households                 0.0956\n",
      "Wealth_Prosperous Households              0.0951\n",
      "PLZ8_ANTG1                                0.0920\n",
      "ZABEOTYP_1                                0.0917\n",
      "GEBAEUDETYP_RASTER                        0.0885\n",
      "FINANZTYP_2                               0.0884\n",
      "GEBAEUDETYP_1.0                           0.0867\n",
      "PLZ8_GBZ                                  0.0862\n",
      "MIN_GEBAEUDEJAHR                          0.0843\n",
      "LP_LEBENSPHASE_GROB_3.0                   0.0807\n",
      "CAMEO_DEUG_2015_2                         0.0806\n",
      "ALTERSKATEGORIE_GROB                      0.0806\n",
      "BALLRAUM                                  0.0784\n",
      "WOHNLAGE_7.0                              0.0779\n",
      "LP_LEBENSPHASE_GROB_5.0                   0.0762\n",
      "...                                          ...\n",
      "LP_LEBENSPHASE_FEIN_2.0                  -0.0720\n",
      "ARBEIT                                   -0.0731\n",
      "FINANZ_UNAUFFAELLIGER                    -0.0738\n",
      "RELAT_AB                                 -0.0762\n",
      "LP_FAMILIE_GROB_1.0                      -0.0809\n",
      "CAMEO_DEUG_2015_8                        -0.0852\n",
      "SEMIO_TRADV                              -0.0864\n",
      "KBA05_BAUMAX_5.0                         -0.0880\n",
      "FINANZ_ANLEGER                           -0.0918\n",
      "SEMIO_RAT                                -0.0921\n",
      "ZABEOTYP_5                               -0.0922\n",
      "Decade_90s                               -0.0972\n",
      "PLZ8_BAUMAX_5.0                          -0.1003\n",
      "Movement_MainStream                      -0.1010\n",
      "ANZ_HAUSHALTE_AKTIV                      -0.1036\n",
      "LP_LEBENSPHASE_FEIN_1.0                  -0.1037\n",
      "CAMEO_DEUG_2015_9                        -0.1045\n",
      "SEMIO_REL                                -0.1054\n",
      "SEMIO_PFLICHT                            -0.1112\n",
      "GREEN_AVANTGARDE_0                       -0.1175\n",
      "EWDICHTE                                 -0.1230\n",
      "ORTSGR_KLS9                              -0.1245\n",
      "LP_LEBENSPHASE_GROB_1.0                  -0.1283\n",
      "Life_Stage_Pre-Family Couples & Singles  -0.1310\n",
      "FINANZTYP_1                              -0.1349\n",
      "Wealth_Poorer Households                 -0.1380\n",
      "FINANZ_SPARER                            -0.1467\n",
      "FINANZ_HAUSBAUER                         -0.1505\n",
      "HH_EINKOMMEN_SCORE                       -0.1891\n",
      "LP_STATUS_GROB_1.0                       -0.1938\n",
      "\n",
      "[216 rows x 1 columns]\n"
     ]
    }
   ],
   "source": [
    "# Map weights for the first principal component to corresponding feature names\n",
    "# and then print the linked values, sorted by weight.\n",
    "# HINT: Try defining a function here or in a new cell that you can reuse in the\n",
    "# other cells.\n",
    "components_1 = print_weights(1)"
   ]
  },
  {
   "cell_type": "code",
   "execution_count": 167,
   "metadata": {},
   "outputs": [
    {
     "name": "stdout",
     "output_type": "stream",
     "text": [
      "                          Weights\n",
      "FINANZ_UNAUFFAELLIGER      0.2033\n",
      "FINANZ_SPARER              0.1925\n",
      "Decade_90s                 0.1746\n",
      "SEMIO_TRADV                0.1742\n",
      "SEMIO_REL                  0.1725\n",
      "FINANZ_ANLEGER             0.1666\n",
      "SEMIO_PFLICHT              0.1665\n",
      "ALTER_HH                   0.1549\n",
      "SEMIO_RAT                  0.1402\n",
      "MOBI_REGIO                 0.1341\n",
      "KBA05_GBZ                  0.1334\n",
      "KBA05_ANTG1                0.1321\n",
      "SEMIO_KULT                 0.1307\n",
      "KBA05_ANTG2                0.1196\n",
      "ONLINE_AFFINITAET          0.1195\n",
      "SEMIO_MAT                  0.1180\n",
      "MIN_GEBAEUDEJAHR           0.1157\n",
      "KBA05_ANTG4                0.1156\n",
      "KBA05_ANTG3                0.1139\n",
      "SEMIO_FAM                  0.1119\n",
      "FINANZTYP_1                0.1041\n",
      "FINANZTYP_3                0.1041\n",
      "PLZ8_ANTG1                 0.1031\n",
      "PLZ8_GBZ                   0.1026\n",
      "KKK                        0.0847\n",
      "PLZ8_HHZ                   0.0845\n",
      "ZABEOTYP_4                 0.0843\n",
      "LP_LEBENSPHASE_GROB_1.0    0.0806\n",
      "ZABEOTYP_5                 0.0789\n",
      "REGIOTYP                   0.0768\n",
      "...                           ...\n",
      "SEMIO_KRIT                -0.0527\n",
      "Wealth_Poorer Households  -0.0537\n",
      "ORTSGR_KLS9               -0.0541\n",
      "EWDICHTE                  -0.0545\n",
      "FINANZ_MINIMALIST         -0.0561\n",
      "LP_FAMILIE_GROB_1.0       -0.0567\n",
      "WOHNDAUER_2008            -0.0591\n",
      "LP_LEBENSPHASE_FEIN_5.0   -0.0597\n",
      "CJT_GESAMTTYP_1.0         -0.0611\n",
      "Decade_70s                -0.0616\n",
      "Decade_40s                -0.0618\n",
      "HH_EINKOMMEN_SCORE        -0.0633\n",
      "LP_LEBENSPHASE_FEIN_8.0   -0.0688\n",
      "FINANZTYP_6               -0.0705\n",
      "FINANZTYP_2               -0.0750\n",
      "AGER_TYP_1.0              -0.0830\n",
      "FINANZTYP_5               -0.0853\n",
      "Decade_50s                -0.0948\n",
      "RETOURTYP_BK_S            -0.0952\n",
      "AGER_TYP_2.0              -0.0969\n",
      "CJT_GESAMTTYP_2.0         -0.0978\n",
      "LP_LEBENSPHASE_FEIN_6.0   -0.1008\n",
      "Decade_60s                -0.1038\n",
      "FINANZ_HAUSBAUER          -0.1125\n",
      "ALTERSKATEGORIE_GROB      -0.1430\n",
      "LP_LEBENSPHASE_GROB_2.0   -0.1433\n",
      "SEMIO_LUST                -0.1448\n",
      "SEMIO_ERL                 -0.1505\n",
      "ZABEOTYP_3                -0.1799\n",
      "FINANZ_VORSORGER          -0.1943\n",
      "\n",
      "[216 rows x 1 columns]\n"
     ]
    }
   ],
   "source": [
    "#Map weights for the second principal component to corresponding feature names\n",
    "# and then print the linked values, sorted by weight.\n",
    "components_2 = print_weights(2)"
   ]
  },
  {
   "cell_type": "code",
   "execution_count": 179,
   "metadata": {},
   "outputs": [
    {
     "name": "stdout",
     "output_type": "stream",
     "text": [
      "                           Weights\n",
      "PLZ8_ANTG3                  0.2450\n",
      "PLZ8_ANTG4                  0.2431\n",
      "KBA05_ANTG3                 0.2409\n",
      "KBA05_ANTG4                 0.2392\n",
      "PLZ8_ANTG2                  0.2383\n",
      "KBA05_ANTG2                 0.2287\n",
      "PLZ8_HHZ                    0.2271\n",
      "PLZ8_GBZ                    0.1985\n",
      "PLZ8_ANTG1                  0.1959\n",
      "MIN_GEBAEUDEJAHR            0.1952\n",
      "KBA05_GBZ                   0.1943\n",
      "KBA05_ANTG1                 0.1907\n",
      "MOBI_REGIO                  0.1865\n",
      "WOHNLAGE_0.0                0.1271\n",
      "REGIOTYP                    0.1243\n",
      "KKK                         0.1205\n",
      "SEMIO_KRIT                  0.1084\n",
      "GREEN_AVANTGARDE_0          0.1064\n",
      "Movement_MainStream         0.0913\n",
      "SEMIO_ERL                   0.0889\n",
      "LP_LEBENSPHASE_GROB_2.0     0.0869\n",
      "ZABEOTYP_3                  0.0869\n",
      "SEMIO_KAEM                  0.0851\n",
      "ANREDE_KZ                   0.0748\n",
      "LP_FAMILIE_GROB_1.0         0.0664\n",
      "LP_STATUS_GROB_1.0          0.0662\n",
      "LP_LEBENSPHASE_FEIN_6.0     0.0645\n",
      "HH_EINKOMMEN_SCORE          0.0618\n",
      "WOHNLAGE_8.0                0.0617\n",
      "Wealth_Poorer Households    0.0505\n",
      "...                            ...\n",
      "FINANZ_SPARER              -0.0440\n",
      "LP_LEBENSPHASE_GROB_9.0    -0.0447\n",
      "CAMEO_DEUG_2015_2          -0.0463\n",
      "Decade_90s                 -0.0465\n",
      "FINANZTYP_4                -0.0472\n",
      "LP_LEBENSPHASE_FEIN_35.0   -0.0504\n",
      "WOHNDAUER_2008             -0.0505\n",
      "ONLINE_AFFINITAET          -0.0520\n",
      "SEMIO_VERT                 -0.0536\n",
      "LP_LEBENSPHASE_GROB_12.0   -0.0558\n",
      "SEMIO_PFLICHT              -0.0576\n",
      "LP_LEBENSPHASE_GROB_11.0   -0.0582\n",
      "WOHNLAGE_7.0               -0.0589\n",
      "Wealth_Wealthy Households  -0.0605\n",
      "SEMIO_TRADV                -0.0612\n",
      "ALTER_HH                   -0.0662\n",
      "LP_STATUS_FEIN             -0.0688\n",
      "SHOPPER_TYP_0.0            -0.0735\n",
      "SEMIO_FAM                  -0.0740\n",
      "LP_FAMILIE_GROB_5.0        -0.0833\n",
      "SEMIO_REL                  -0.0840\n",
      "SEMIO_SOZ                  -0.0842\n",
      "ANZ_PERSONEN               -0.0865\n",
      "LP_STATUS_GROB_5.0         -0.0875\n",
      "ZABEOTYP_1                 -0.0891\n",
      "Movement_Avantgarde        -0.1064\n",
      "SEMIO_KULT                 -0.1064\n",
      "GREEN_AVANTGARDE_1         -0.1064\n",
      "KBA05_BAUMAX_1.0           -0.1170\n",
      "PLZ8_BAUMAX_1.0            -0.1225\n",
      "\n",
      "[216 rows x 1 columns]\n"
     ]
    }
   ],
   "source": [
    "#Map weights for the second principal component to corresponding feature names\n",
    "# and then print the linked values, sorted by weight.\n",
    "components_3 = print_weights(3)"
   ]
  },
  {
   "cell_type": "code",
   "execution_count": 182,
   "metadata": {},
   "outputs": [
    {
     "data": {
      "text/html": [
       "<div>\n",
       "<style scoped>\n",
       "    .dataframe tbody tr th:only-of-type {\n",
       "        vertical-align: middle;\n",
       "    }\n",
       "\n",
       "    .dataframe tbody tr th {\n",
       "        vertical-align: top;\n",
       "    }\n",
       "\n",
       "    .dataframe thead th {\n",
       "        text-align: right;\n",
       "    }\n",
       "</style>\n",
       "<table border=\"1\" class=\"dataframe\">\n",
       "  <thead>\n",
       "    <tr style=\"text-align: right;\">\n",
       "      <th></th>\n",
       "      <th>FINANZ_VORSORGER</th>\n",
       "      <th>FINANZ_UNAUFFAELLIGER</th>\n",
       "    </tr>\n",
       "  </thead>\n",
       "  <tbody>\n",
       "    <tr>\n",
       "      <th>1</th>\n",
       "      <td>-1.040688</td>\n",
       "      <td>0.958749</td>\n",
       "    </tr>\n",
       "    <tr>\n",
       "      <th>2</th>\n",
       "      <td>-1.766966</td>\n",
       "      <td>0.244201</td>\n",
       "    </tr>\n",
       "    <tr>\n",
       "      <th>3</th>\n",
       "      <td>1.138145</td>\n",
       "      <td>-1.184893</td>\n",
       "    </tr>\n",
       "    <tr>\n",
       "      <th>4</th>\n",
       "      <td>0.411867</td>\n",
       "      <td>0.244201</td>\n",
       "    </tr>\n",
       "    <tr>\n",
       "      <th>5</th>\n",
       "      <td>1.138145</td>\n",
       "      <td>-0.470346</td>\n",
       "    </tr>\n",
       "    <tr>\n",
       "      <th>6</th>\n",
       "      <td>-1.766966</td>\n",
       "      <td>0.958749</td>\n",
       "    </tr>\n",
       "    <tr>\n",
       "      <th>7</th>\n",
       "      <td>0.411867</td>\n",
       "      <td>0.244201</td>\n",
       "    </tr>\n",
       "    <tr>\n",
       "      <th>8</th>\n",
       "      <td>-1.040688</td>\n",
       "      <td>-0.470346</td>\n",
       "    </tr>\n",
       "    <tr>\n",
       "      <th>9</th>\n",
       "      <td>-1.040688</td>\n",
       "      <td>1.673296</td>\n",
       "    </tr>\n",
       "    <tr>\n",
       "      <th>10</th>\n",
       "      <td>1.138145</td>\n",
       "      <td>-1.184893</td>\n",
       "    </tr>\n",
       "  </tbody>\n",
       "</table>\n",
       "</div>"
      ],
      "text/plain": [
       "    FINANZ_VORSORGER  FINANZ_UNAUFFAELLIGER\n",
       "1          -1.040688               0.958749\n",
       "2          -1.766966               0.244201\n",
       "3           1.138145              -1.184893\n",
       "4           0.411867               0.244201\n",
       "5           1.138145              -0.470346\n",
       "6          -1.766966               0.958749\n",
       "7           0.411867               0.244201\n",
       "8          -1.040688              -0.470346\n",
       "9          -1.040688               1.673296\n",
       "10          1.138145              -1.184893"
      ]
     },
     "execution_count": 182,
     "metadata": {},
     "output_type": "execute_result"
    }
   ],
   "source": [
    "# Investigate in the second principal components\n",
    "columns = ['FINANZ_VORSORGER','FINANZ_UNAUFFAELLIGER']\n",
    "pd.DataFrame(df, columns = columns).head(10)  "
   ]
  },
  {
   "cell_type": "markdown",
   "metadata": {},
   "source": [
    "### Discussion 2.3: Interpret Principal Components\n",
    "\n",
    "From the above lists we can see for the first three principal components, the most weighted features are \n",
    "\n",
    "First:`FINANZ_MINIMALIST`: 0.2098 and `LP_STATUS_GROB_1.0`: -0.1938\n",
    "\n",
    "    `FINANZ_MINIMALIST`: Financial typology\n",
    "    `LP_STATUS_GROB_1.0`: low-income earners\n",
    "\n",
    "\n",
    "Second: `FINANZ_UNAUFFAELLIGER`: 0.2033 and `FINANZ_VORSORGER`: -0.1943\n",
    "    \n",
    "    `FINANZ_UNAUFFAELLIGERT`: Financial typology\n",
    "    `FINANZ_VORSORGER`: Financial typology\n",
    "\n",
    "Third: `PLZ8_ANTG3`: 0.2450 and `PLZ8_BAUMAX_1.0`: -0.1225\n",
    "\n",
    "    `PLZ8_ANTG3`: Number of 3-5 family houses in the PLZ8 region\n",
    "    `PLZ8_BAUMAX_1.0`: Most common building type within the PLZ8 region_mainly 1-2 family homes\n",
    "\n",
    "I list the description of each feature and we can see the influence of 'financial typology' is most obvious. For the first principal compnent, these two features has high negative correlation which is expected. As 'LP_STATUS_GROB_1.0' represents low-income earners.\n",
    "\n",
    "For the second principal component, both features are financial related. And from the code I shown above we can see they are negative correlated.\n",
    "\n",
    "What's more, in the third principal component, both features are related to house/building type, the first feature means more family while the second means less family in the region. Which is negatively correlated.\n"
   ]
  },
  {
   "cell_type": "markdown",
   "metadata": {},
   "source": [
    "## Step 3: Clustering\n",
    "\n",
    "### Step 3.1: Apply Clustering to General Population\n",
    "\n",
    "You've assessed and cleaned the demographics data, then scaled and transformed them. Now, it's time to see how the data clusters in the principal components space. In this substep, you will apply k-means clustering to the dataset and use the average within-cluster distances from each point to their assigned cluster's centroid to decide on a number of clusters to keep.\n",
    "\n",
    "- Use sklearn's [KMeans](http://scikit-learn.org/stable/modules/generated/sklearn.cluster.KMeans.html#sklearn.cluster.KMeans) class to perform k-means clustering on the PCA-transformed data.\n",
    "- Then, compute the average difference from each point to its assigned cluster's center. **Hint**: The KMeans object's `.score()` method might be useful here, but note that in sklearn, scores tend to be defined so that larger is better. Try applying it to a small, toy dataset, or use an internet search to help your understanding.\n",
    "- Perform the above two steps for a number of different cluster counts. You can then see how the average distance decreases with an increasing number of clusters. However, each additional cluster provides a smaller net benefit. Use this fact to select a final number of clusters in which to group the data. **Warning**: because of the large size of the dataset, it can take a long time for the algorithm to resolve. The more clusters to fit, the longer the algorithm will take. You should test for cluster counts through at least 10 clusters to get the full picture, but you shouldn't need to test for a number of clusters above about 30.\n",
    "- Once you've selected a final number of clusters to use, re-fit a KMeans instance to perform the clustering operation. Make sure that you also obtain the cluster assignments for the general demographics data, since you'll be using them in the final Step 3.3."
   ]
  },
  {
   "cell_type": "code",
   "execution_count": 185,
   "metadata": {},
   "outputs": [],
   "source": [
    "from sklearn.cluster import KMeans\n",
    "def score(data, k):\n",
    "    kmeans_k = KMeans(k)\n",
    "    model_k = kmeans_k.fit(data)\n",
    "    return abs(model_k.score(data))"
   ]
  },
  {
   "cell_type": "code",
   "execution_count": 217,
   "metadata": {},
   "outputs": [
    {
     "data": {
      "text/plain": [
       "163796057.7774729"
      ]
     },
     "execution_count": 217,
     "metadata": {},
     "output_type": "execute_result"
    }
   ],
   "source": [
    "score(df_pca, 1)"
   ]
  },
  {
   "cell_type": "code",
   "execution_count": 218,
   "metadata": {},
   "outputs": [
    {
     "data": {
      "text/plain": [
       "155050488.72391993"
      ]
     },
     "execution_count": 218,
     "metadata": {},
     "output_type": "execute_result"
    }
   ],
   "source": [
    "score(df_pca, 2)"
   ]
  },
  {
   "cell_type": "code",
   "execution_count": 219,
   "metadata": {},
   "outputs": [
    {
     "data": {
      "text/plain": [
       "149123117.29913583"
      ]
     },
     "execution_count": 219,
     "metadata": {},
     "output_type": "execute_result"
    }
   ],
   "source": [
    "score(df_pca, 3)"
   ]
  },
  {
   "cell_type": "code",
   "execution_count": 220,
   "metadata": {},
   "outputs": [
    {
     "data": {
      "text/plain": [
       "143361640.5838867"
      ]
     },
     "execution_count": 220,
     "metadata": {},
     "output_type": "execute_result"
    }
   ],
   "source": [
    "score(df_pca, 4)"
   ]
  },
  {
   "cell_type": "code",
   "execution_count": 202,
   "metadata": {},
   "outputs": [
    {
     "data": {
      "text/plain": [
       "140217471.37793407"
      ]
     },
     "execution_count": 202,
     "metadata": {},
     "output_type": "execute_result"
    }
   ],
   "source": [
    "score(df_pca, 5)"
   ]
  },
  {
   "cell_type": "code",
   "execution_count": 221,
   "metadata": {},
   "outputs": [
    {
     "data": {
      "text/plain": [
       "137863016.46263075"
      ]
     },
     "execution_count": 221,
     "metadata": {},
     "output_type": "execute_result"
    }
   ],
   "source": [
    "score(df_pca, 6)"
   ]
  },
  {
   "cell_type": "code",
   "execution_count": 222,
   "metadata": {},
   "outputs": [
    {
     "data": {
      "text/plain": [
       "136055244.57932627"
      ]
     },
     "execution_count": 222,
     "metadata": {},
     "output_type": "execute_result"
    }
   ],
   "source": [
    "score(df_pca, 7)"
   ]
  },
  {
   "cell_type": "code",
   "execution_count": 223,
   "metadata": {},
   "outputs": [
    {
     "data": {
      "text/plain": [
       "133770346.57899672"
      ]
     },
     "execution_count": 223,
     "metadata": {},
     "output_type": "execute_result"
    }
   ],
   "source": [
    "score(df_pca, 8)"
   ]
  },
  {
   "cell_type": "code",
   "execution_count": 224,
   "metadata": {},
   "outputs": [
    {
     "data": {
      "text/plain": [
       "132256721.43264404"
      ]
     },
     "execution_count": 224,
     "metadata": {},
     "output_type": "execute_result"
    }
   ],
   "source": [
    "score(df_pca, 9)"
   ]
  },
  {
   "cell_type": "code",
   "execution_count": 203,
   "metadata": {},
   "outputs": [
    {
     "data": {
      "text/plain": [
       "130437099.93493946"
      ]
     },
     "execution_count": 203,
     "metadata": {},
     "output_type": "execute_result"
    }
   ],
   "source": [
    "score(df_pca, 10)"
   ]
  },
  {
   "cell_type": "code",
   "execution_count": 204,
   "metadata": {},
   "outputs": [
    {
     "data": {
      "text/plain": [
       "123203064.55673859"
      ]
     },
     "execution_count": 204,
     "metadata": {},
     "output_type": "execute_result"
    }
   ],
   "source": [
    "score(df_pca, 15)"
   ]
  },
  {
   "cell_type": "code",
   "execution_count": 205,
   "metadata": {},
   "outputs": [
    {
     "data": {
      "text/plain": [
       "115670761.49477568"
      ]
     },
     "execution_count": 205,
     "metadata": {},
     "output_type": "execute_result"
    }
   ],
   "source": [
    "score(df_pca, 20)"
   ]
  },
  {
   "cell_type": "code",
   "execution_count": 212,
   "metadata": {},
   "outputs": [
    {
     "data": {
      "text/plain": [
       "115794370.75070912"
      ]
     },
     "execution_count": 212,
     "metadata": {},
     "output_type": "execute_result"
    }
   ],
   "source": [
    "score(df_pca, 21)"
   ]
  },
  {
   "cell_type": "code",
   "execution_count": 213,
   "metadata": {},
   "outputs": [
    {
     "data": {
      "text/plain": [
       "114144738.90071626"
      ]
     },
     "execution_count": 213,
     "metadata": {},
     "output_type": "execute_result"
    }
   ],
   "source": [
    "score(df_pca, 22)"
   ]
  },
  {
   "cell_type": "code",
   "execution_count": 214,
   "metadata": {},
   "outputs": [
    {
     "data": {
      "text/plain": [
       "113173528.70218685"
      ]
     },
     "execution_count": 214,
     "metadata": {},
     "output_type": "execute_result"
    }
   ],
   "source": [
    "score(df_pca, 23)"
   ]
  },
  {
   "cell_type": "code",
   "execution_count": 215,
   "metadata": {},
   "outputs": [
    {
     "data": {
      "text/plain": [
       "112128182.86514911"
      ]
     },
     "execution_count": 215,
     "metadata": {},
     "output_type": "execute_result"
    }
   ],
   "source": [
    "score(df_pca, 24)"
   ]
  },
  {
   "cell_type": "code",
   "execution_count": 206,
   "metadata": {},
   "outputs": [
    {
     "data": {
      "text/plain": [
       "111375699.7578137"
      ]
     },
     "execution_count": 206,
     "metadata": {},
     "output_type": "execute_result"
    }
   ],
   "source": [
    "score(df_pca, 25)"
   ]
  },
  {
   "cell_type": "code",
   "execution_count": 207,
   "metadata": {},
   "outputs": [
    {
     "data": {
      "text/plain": [
       "105662638.82744557"
      ]
     },
     "execution_count": 207,
     "metadata": {},
     "output_type": "execute_result"
    }
   ],
   "source": [
    "score(df_pca, 30)"
   ]
  },
  {
   "cell_type": "code",
   "execution_count": null,
   "metadata": {},
   "outputs": [],
   "source": [
    "# Over a number of different cluster counts...\n",
    "# run k-means clustering on the data and...\n",
    "# compute the average within-cluster distances.\n",
    "    \n",
    "    "
   ]
  },
  {
   "cell_type": "code",
   "execution_count": 226,
   "metadata": {},
   "outputs": [
    {
     "data": {
      "text/plain": [
       "[<matplotlib.lines.Line2D at 0x1a6527bef0>]"
      ]
     },
     "execution_count": 226,
     "metadata": {},
     "output_type": "execute_result"
    },
    {
     "data": {
      "image/png": "[encoded data removed]",
      "text/plain": [
       "<Figure size 432x288 with 1 Axes>"
      ]
     },
     "metadata": {},
     "output_type": "display_data"
    }
   ],
   "source": [
    "# Investigate the change in within-cluster distance across number of clusters.\n",
    "# HINT: Use matplotlib's plot function to visualize this relationship.\n",
    "scores = [163796057.7774729, 155050488.72391993, 149123117.29913583, 143361640.5838867, 140217471.37793407,\n",
    "          137863016.46263075, 136055244.57932627, 133770346.57899672, 132256721.43264404, \n",
    "          130437099, 123203064, 115670761, 111375699, 105662638]\n",
    "centers = [1,2,3,4,5,6,7,8,9,10,15,20,25,30]\n",
    "plt.plot(centers, scores, linestyle='-', marker='o', color='orange')\n"
   ]
  },
  {
   "cell_type": "code",
   "execution_count": null,
   "metadata": {},
   "outputs": [],
   "source": [
    "# Re-fit the k-means model with the selected number of clusters and obtain\n",
    "# cluster predictions for the general population demographics data.\n",
    "\n"
   ]
  },
  {
   "cell_type": "markdown",
   "metadata": {},
   "source": [
    "### Discussion 3.1: Apply Clustering to General Population\n",
    "\n",
    "(Double-click this cell and replace this text with your own text, reporting your findings and decisions regarding clustering. Into how many clusters have you decided to segment the population?)"
   ]
  },
  {
   "cell_type": "markdown",
   "metadata": {},
   "source": [
    "### Step 3.2: Apply All Steps to the Customer Data\n",
    "\n",
    "Now that you have clusters and cluster centers for the general population, it's time to see how the customer data maps on to those clusters. Take care to not confuse this for re-fitting all of the models to the customer data. Instead, you're going to use the fits from the general population to clean, transform, and cluster the customer data. In the last step of the project, you will interpret how the general population fits apply to the customer data.\n",
    "\n",
    "- Don't forget when loading in the customers data, that it is semicolon (`;`) delimited.\n",
    "- Apply the same feature wrangling, selection, and engineering steps to the customer demographics using the `clean_data()` function you created earlier. (You can assume that the customer demographics data has similar meaning behind missing data patterns as the general demographics data.)\n",
    "- Use the sklearn objects from the general demographics data, and apply their transformations to the customers data. That is, you should not be using a `.fit()` or `.fit_transform()` method to re-fit the old objects, nor should you be creating new sklearn objects! Carry the data through the feature scaling, PCA, and clustering steps, obtaining cluster assignments for all of the data in the customer demographics data."
   ]
  },
  {
   "cell_type": "code",
   "execution_count": null,
   "metadata": {},
   "outputs": [],
   "source": [
    "# Load in the customer demographics data.\n",
    "customers = "
   ]
  },
  {
   "cell_type": "code",
   "execution_count": null,
   "metadata": {},
   "outputs": [],
   "source": [
    "# Apply preprocessing, feature transformation, and clustering from the general\n",
    "# demographics onto the customer data, obtaining cluster predictions for the\n",
    "# customer demographics data.\n",
    "\n"
   ]
  },
  {
   "cell_type": "markdown",
   "metadata": {},
   "source": [
    "### Step 3.3: Compare Customer Data to Demographics Data\n",
    "\n",
    "At this point, you have clustered data based on demographics of the general population of Germany, and seen how the customer data for a mail-order sales company maps onto those demographic clusters. In this final substep, you will compare the two cluster distributions to see where the strongest customer base for the company is.\n",
    "\n",
    "Consider the proportion of persons in each cluster for the general population, and the proportions for the customers. If we think the company's customer base to be universal, then the cluster assignment proportions should be fairly similar between the two. If there are only particular segments of the population that are interested in the company's products, then we should see a mismatch from one to the other. If there is a higher proportion of persons in a cluster for the customer data compared to the general population (e.g. 5% of persons are assigned to a cluster for the general population, but 15% of the customer data is closest to that cluster's centroid) then that suggests the people in that cluster to be a target audience for the company. On the other hand, the proportion of the data in a cluster being larger in the general population than the customer data (e.g. only 2% of customers closest to a population centroid that captures 6% of the data) suggests that group of persons to be outside of the target demographics.\n",
    "\n",
    "Take a look at the following points in this step:\n",
    "\n",
    "- Compute the proportion of data points in each cluster for the general population and the customer data. Visualizations will be useful here: both for the individual dataset proportions, but also to visualize the ratios in cluster representation between groups. Seaborn's [`countplot()`](https://seaborn.pydata.org/generated/seaborn.countplot.html) or [`barplot()`](https://seaborn.pydata.org/generated/seaborn.barplot.html) function could be handy.\n",
    "  - Recall the analysis you performed in step 1.1.3 of the project, where you separated out certain data points from the dataset if they had more than a specified threshold of missing values. If you found that this group was qualitatively different from the main bulk of the data, you should treat this as an additional data cluster in this analysis. Make sure that you account for the number of data points in this subset, for both the general population and customer datasets, when making your computations!\n",
    "- Which cluster or clusters are overrepresented in the customer dataset compared to the general population? Select at least one such cluster and infer what kind of people might be represented by that cluster. Use the principal component interpretations from step 2.3 or look at additional components to help you make this inference. Alternatively, you can use the `.inverse_transform()` method of the PCA and StandardScaler objects to transform centroids back to the original data space and interpret the retrieved values directly.\n",
    "- Perform a similar investigation for the underrepresented clusters. Which cluster or clusters are underrepresented in the customer dataset compared to the general population, and what kinds of people are typified by these clusters?"
   ]
  },
  {
   "cell_type": "code",
   "execution_count": null,
   "metadata": {},
   "outputs": [],
   "source": [
    "# Compare the proportion of data in each cluster for the customer data to the\n",
    "# proportion of data in each cluster for the general population.\n",
    "\n"
   ]
  },
  {
   "cell_type": "code",
   "execution_count": null,
   "metadata": {},
   "outputs": [],
   "source": [
    "# What kinds of people are part of a cluster that is overrepresented in the\n",
    "# customer data compared to the general population?\n",
    "\n"
   ]
  },
  {
   "cell_type": "code",
   "execution_count": null,
   "metadata": {},
   "outputs": [],
   "source": [
    "# What kinds of people are part of a cluster that is underrepresented in the\n",
    "# customer data compared to the general population?\n",
    "\n"
   ]
  },
  {
   "cell_type": "markdown",
   "metadata": {},
   "source": [
    "### Discussion 3.3: Compare Customer Data to Demographics Data\n",
    "\n",
    "(Double-click this cell and replace this text with your own text, reporting findings and conclusions from the clustering analysis. Can we describe segments of the population that are relatively popular with the mail-order company, or relatively unpopular with the company?)"
   ]
  },
  {
   "cell_type": "markdown",
   "metadata": {},
   "source": [
    "> Congratulations on making it this far in the project! Before you finish, make sure to check through the entire notebook from top to bottom to make sure that your analysis follows a logical flow and all of your findings are documented in **Discussion** cells. Once you've checked over all of your work, you should export the notebook as an HTML document to submit for evaluation. You can do this from the menu, navigating to **File -> Download as -> HTML (.html)**. You will submit both that document and this notebook for your project submission."
   ]
  },
  {
   "cell_type": "code",
   "execution_count": null,
   "metadata": {},
   "outputs": [],
   "source": []
  }
 ],
 "metadata": {
  "kernelspec": {
   "display_name": "Python 3",
   "language": "python",
   "name": "python3"
  },
  "language_info": {
   "codemirror_mode": {
    "name": "ipython",
    "version": 3
   },
   "file_extension": ".py",
   "mimetype": "text/x-python",
   "name": "python",
   "nbconvert_exporter": "python",
   "pygments_lexer": "ipython3",
   "version": "3.6.5"
  }
 },
 "nbformat": 4,
 "nbformat_minor": 2
}
